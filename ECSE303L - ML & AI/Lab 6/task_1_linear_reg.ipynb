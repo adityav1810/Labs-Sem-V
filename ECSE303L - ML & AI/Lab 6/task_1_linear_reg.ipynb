{
 "cells": [
  {
   "cell_type": "markdown",
   "metadata": {
    "colab_type": "text",
    "id": "3tWQnVjqfFwv"
   },
   "source": [
    "## Data Leakage, L1(Lasso) and L2 (Ridge) regularization using Linear Regression\n",
    "\n",
    "We will use cross validation, lasso and ridge regression in this lab.\n",
    "\n",
    "Specifically speaking, <br>\n",
    "Regularization basically adds the penalty as model complexity increases.<br>\n",
    "Cross validation is used to evaluate how well our model can generalize on the dataset. <br>\n",
    "\n",
    "We will be using r2 score in this lab. It provides an indication of goodness of fit and therefore a measure of how well unseen samples are likely to be predicted by the model.\n",
    "\n",
    "\n",
    "In this task, we will explore the following things on linear regression model:\n",
    "- Cross Validation\n",
    "- L1 regularization (Lasso regression)\n",
    "- L2 regularization (Ridge regression)\n",
    "\n",
    "\n",
    "#### Dataset\n",
    "The dataset is available at \"data/bike.csv\" in the respective challenge's repo.<br>\n",
    "\n",
    "The dataset is __modified version__ of the dataset 'bike.csv' provided by UCI Machine Learning repository.\n",
    "\n",
    "Original dataset: https://archive.ics.uci.edu/ml/datasets/bike+sharing+dataset\n",
    "\n",
    "#### Objective\n",
    "To learn about how cross validation, L1 regularization and L2 regularization work.\n",
    "\n",
    "#### Tasks\n",
    "- load the dataset.\n",
    "- perform pre-processing on the data.\n",
    "- remove registered feature and keep the casual feature to understand data leakage.\n",
    "- construct train and test dataset.\n",
    "- create a linear regression model.\n",
    "- check the r2 score of the initial linear regression model on train and test dataset\n",
    "- observe distribution of weights in the initial linear regression model. \n",
    "- split the dataset into k consecutive folds.\n",
    "- calculate cross validation score for the k fold and check how well our model can generalize on the training dataset.\n",
    "- checking the variance threshold of dataset and remove features with low variance.\n",
    "- apply L1 regularization on the dataset and check the r2_score.\n",
    "- visualize the distribution of weights on the lasso regression model.\n",
    "- apply L2 regularization on the dataset and check the r2_score.\n",
    "- visualize the distribution of weights on the ridge regression model. \n",
    "\n",
    "#### Further fun\n",
    "- apply RFE on the dataset to automatically remove uneccessary features which would prevent overfitting.\n",
    "- don't remove casual and registered features and check the effect of data leakage on the model\n",
    "- implement lasso and ridge regression without using inbuilt librarires.\n",
    "- apply elastic net to visualize the effect of both ridge and lasso regression.\n",
    "\n",
    "\n",
    "#### Helpful links\n",
    "- Cross validation : https://machinelearningmastery.com/k-fold-cross-validation/#:~:text=Cross%2Dvalidation%20is%20a%20resampling,k%2Dfold%20cross%2Dvalidation.\n",
    "- Cross validation: https://scikit-learn.org/stable/modules/cross_validation.html\n",
    "- L1 and L2 regularization : https://towardsdatascience.com/ridge-and-lasso-regression-a-complete-guide-with-python-scikit-learn-e20e34bcbf0b\n",
    "- L1 and L2 regularization : https://www.youtube.com/watch?v=9lRv01HDU0s&list=PLZoTAELRMXVPBTrWtJkn3wWQxZkmTXGwe&index=30&t=904s\n",
    "- r2_score: https://scikit-learn.org/stable/modules/generated/sklearn.metrics.r2_score.html#sklearn.metrics.r2_score\n",
    "- pd.get_dummies() and One Hot Encoding: https://queirozf.com/entries/one-hot-encoding-a-feature-on-a-pandas-dataframe-an-example\n",
    "- Data Leakage : \"https://machinelearningmastery.com/data-leakage-machine-learning/\n",
    "- sklearn k-fold : https://scikit-learn.org/stable/modules/generated/sklearn.model_selection.KFold.html\n",
    "- sklearn cross_val_score : https://scikit-learn.org/stable/modules/generated/sklearn.model_selection.cross_val_score.html?highlight=cross_val_score#sklearn.model_selection.cross_val_score\n",
    "- sklearn lasso regression : https://scikit-learn.org/stable/modules/generated/sklearn.linear_model.Lasso.html?highlight=lasso#sklearn.linear_model.Lasso\n",
    "- sklearn ridge regression : https://scikit-learn.org/stable/modules/generated/sklearn.linear_model.Ridge.html?highlight=ridge#sklearn.linear_model.Ridge\n",
    "- RFE : https://machinelearningmastery.com/rfe-feature-selection-in-python/\n",
    "- RFE sklearn : https://scikit-learn.org/stable/modules/generated/sklearn.feature_selection.RFE.html\n",
    "- Use slack for doubts: "
   ]
  },
  {
   "cell_type": "code",
   "execution_count": 32,
   "metadata": {
    "colab": {},
    "colab_type": "code",
    "id": "mRl7KPgwjRHI"
   },
   "outputs": [],
   "source": [
    "#import the necessary libraries\n",
    "import pandas as pd\n",
    "import numpy as np\n",
    "import matplotlib.pyplot as plt\n",
    "\n",
    "# Sklearn processing\n",
    "from sklearn.preprocessing import MinMaxScaler\n",
    "from sklearn.model_selection import train_test_split\n",
    "from sklearn.model_selection import KFold\n",
    "from sklearn.model_selection import cross_val_score\n",
    "\n",
    "# Sklearn linear regression model\n",
    "from sklearn.linear_model import LinearRegression\n",
    "\n",
    "# Sklearn regression model evaluation functions\n",
    "from sklearn.metrics import r2_score\n",
    "\n",
    "# Perform feature selection using a variance threshold\n",
    "from sklearn.feature_selection import VarianceThreshold\n",
    "\n",
    "# Feature selection using Recursive Feature Elimimation\n",
    "from sklearn.feature_selection import RFE"
   ]
  },
  {
   "cell_type": "code",
   "execution_count": 33,
   "metadata": {
    "colab": {},
    "colab_type": "code",
    "id": "Vq1jiQz-kIpA"
   },
   "outputs": [
    {
     "data": {
      "text/html": [
       "<div>\n",
       "<style scoped>\n",
       "    .dataframe tbody tr th:only-of-type {\n",
       "        vertical-align: middle;\n",
       "    }\n",
       "\n",
       "    .dataframe tbody tr th {\n",
       "        vertical-align: top;\n",
       "    }\n",
       "\n",
       "    .dataframe thead th {\n",
       "        text-align: right;\n",
       "    }\n",
       "</style>\n",
       "<table border=\"1\" class=\"dataframe\">\n",
       "  <thead>\n",
       "    <tr style=\"text-align: right;\">\n",
       "      <th></th>\n",
       "      <th>id</th>\n",
       "      <th>season</th>\n",
       "      <th>year</th>\n",
       "      <th>holiday</th>\n",
       "      <th>weekday</th>\n",
       "      <th>workingday</th>\n",
       "      <th>weather</th>\n",
       "      <th>temp</th>\n",
       "      <th>feel_temp</th>\n",
       "      <th>hum</th>\n",
       "      <th>windspeed</th>\n",
       "      <th>promotion_level</th>\n",
       "      <th>promotion_type</th>\n",
       "      <th>promotion_level_external</th>\n",
       "      <th>promotion_type_external</th>\n",
       "      <th>casual</th>\n",
       "      <th>registered</th>\n",
       "      <th>cnt</th>\n",
       "    </tr>\n",
       "  </thead>\n",
       "  <tbody>\n",
       "    <tr>\n",
       "      <th>0</th>\n",
       "      <td>12765</td>\n",
       "      <td>winter</td>\n",
       "      <td>2016</td>\n",
       "      <td>0</td>\n",
       "      <td>6</td>\n",
       "      <td>0</td>\n",
       "      <td>cloud</td>\n",
       "      <td>0.344167</td>\n",
       "      <td>0.363625</td>\n",
       "      <td>0.805833</td>\n",
       "      <td>0.160446</td>\n",
       "      <td>7</td>\n",
       "      <td>1</td>\n",
       "      <td>2</td>\n",
       "      <td>2</td>\n",
       "      <td>226</td>\n",
       "      <td>654</td>\n",
       "      <td>880</td>\n",
       "    </tr>\n",
       "    <tr>\n",
       "      <th>1</th>\n",
       "      <td>12766</td>\n",
       "      <td>winter</td>\n",
       "      <td>2016</td>\n",
       "      <td>0</td>\n",
       "      <td>0</td>\n",
       "      <td>0</td>\n",
       "      <td>cloud</td>\n",
       "      <td>0.363478</td>\n",
       "      <td>0.353739</td>\n",
       "      <td>0.696087</td>\n",
       "      <td>0.248539</td>\n",
       "      <td>8</td>\n",
       "      <td>1</td>\n",
       "      <td>8</td>\n",
       "      <td>1</td>\n",
       "      <td>125</td>\n",
       "      <td>670</td>\n",
       "      <td>795</td>\n",
       "    </tr>\n",
       "    <tr>\n",
       "      <th>2</th>\n",
       "      <td>12767</td>\n",
       "      <td>winter</td>\n",
       "      <td>2016</td>\n",
       "      <td>0</td>\n",
       "      <td>1</td>\n",
       "      <td>1</td>\n",
       "      <td>fair</td>\n",
       "      <td>0.196364</td>\n",
       "      <td>0.189405</td>\n",
       "      <td>0.437273</td>\n",
       "      <td>0.248309</td>\n",
       "      <td>3</td>\n",
       "      <td>1</td>\n",
       "      <td>10</td>\n",
       "      <td>2</td>\n",
       "      <td>75</td>\n",
       "      <td>1229</td>\n",
       "      <td>1304</td>\n",
       "    </tr>\n",
       "    <tr>\n",
       "      <th>3</th>\n",
       "      <td>12768</td>\n",
       "      <td>winter</td>\n",
       "      <td>2016</td>\n",
       "      <td>0</td>\n",
       "      <td>2</td>\n",
       "      <td>1</td>\n",
       "      <td>fair</td>\n",
       "      <td>0.200000</td>\n",
       "      <td>0.212122</td>\n",
       "      <td>0.590435</td>\n",
       "      <td>0.160296</td>\n",
       "      <td>0</td>\n",
       "      <td>1</td>\n",
       "      <td>8</td>\n",
       "      <td>3</td>\n",
       "      <td>67</td>\n",
       "      <td>1454</td>\n",
       "      <td>1521</td>\n",
       "    </tr>\n",
       "    <tr>\n",
       "      <th>4</th>\n",
       "      <td>12769</td>\n",
       "      <td>winter</td>\n",
       "      <td>2016</td>\n",
       "      <td>0</td>\n",
       "      <td>3</td>\n",
       "      <td>1</td>\n",
       "      <td>fair</td>\n",
       "      <td>0.226957</td>\n",
       "      <td>0.229270</td>\n",
       "      <td>0.436957</td>\n",
       "      <td>0.186900</td>\n",
       "      <td>2</td>\n",
       "      <td>0</td>\n",
       "      <td>5</td>\n",
       "      <td>1</td>\n",
       "      <td>58</td>\n",
       "      <td>1518</td>\n",
       "      <td>1576</td>\n",
       "    </tr>\n",
       "  </tbody>\n",
       "</table>\n",
       "</div>"
      ],
      "text/plain": [
       "      id  season  year  holiday  weekday  workingday weather      temp  \\\n",
       "0  12765  winter  2016        0        6           0   cloud  0.344167   \n",
       "1  12766  winter  2016        0        0           0   cloud  0.363478   \n",
       "2  12767  winter  2016        0        1           1    fair  0.196364   \n",
       "3  12768  winter  2016        0        2           1    fair  0.200000   \n",
       "4  12769  winter  2016        0        3           1    fair  0.226957   \n",
       "\n",
       "   feel_temp       hum  windspeed  promotion_level  promotion_type  \\\n",
       "0   0.363625  0.805833   0.160446                7               1   \n",
       "1   0.353739  0.696087   0.248539                8               1   \n",
       "2   0.189405  0.437273   0.248309                3               1   \n",
       "3   0.212122  0.590435   0.160296                0               1   \n",
       "4   0.229270  0.436957   0.186900                2               0   \n",
       "\n",
       "   promotion_level_external  promotion_type_external  casual  registered   cnt  \n",
       "0                         2                        2     226         654   880  \n",
       "1                         8                        1     125         670   795  \n",
       "2                        10                        2      75        1229  1304  \n",
       "3                         8                        3      67        1454  1521  \n",
       "4                         5                        1      58        1518  1576  "
      ]
     },
     "execution_count": 33,
     "metadata": {},
     "output_type": "execute_result"
    }
   ],
   "source": [
    "#load the data and inspect the first 5 rows\n",
    "data = pd.read_csv('data/bike.csv')\n",
    "data.head()"
   ]
  },
  {
   "cell_type": "code",
   "execution_count": 34,
   "metadata": {
    "colab": {},
    "colab_type": "code",
    "id": "pw5T1NvekL65"
   },
   "outputs": [
    {
     "data": {
      "text/html": [
       "<div>\n",
       "<style scoped>\n",
       "    .dataframe tbody tr th:only-of-type {\n",
       "        vertical-align: middle;\n",
       "    }\n",
       "\n",
       "    .dataframe tbody tr th {\n",
       "        vertical-align: top;\n",
       "    }\n",
       "\n",
       "    .dataframe thead th {\n",
       "        text-align: right;\n",
       "    }\n",
       "</style>\n",
       "<table border=\"1\" class=\"dataframe\">\n",
       "  <thead>\n",
       "    <tr style=\"text-align: right;\">\n",
       "      <th></th>\n",
       "      <th>Feature</th>\n",
       "      <th>Data Type</th>\n",
       "    </tr>\n",
       "  </thead>\n",
       "  <tbody>\n",
       "    <tr>\n",
       "      <th>0</th>\n",
       "      <td>id</td>\n",
       "      <td>int64</td>\n",
       "    </tr>\n",
       "    <tr>\n",
       "      <th>1</th>\n",
       "      <td>season</td>\n",
       "      <td>object</td>\n",
       "    </tr>\n",
       "    <tr>\n",
       "      <th>2</th>\n",
       "      <td>year</td>\n",
       "      <td>int64</td>\n",
       "    </tr>\n",
       "    <tr>\n",
       "      <th>3</th>\n",
       "      <td>holiday</td>\n",
       "      <td>int64</td>\n",
       "    </tr>\n",
       "    <tr>\n",
       "      <th>4</th>\n",
       "      <td>weekday</td>\n",
       "      <td>int64</td>\n",
       "    </tr>\n",
       "    <tr>\n",
       "      <th>5</th>\n",
       "      <td>workingday</td>\n",
       "      <td>int64</td>\n",
       "    </tr>\n",
       "    <tr>\n",
       "      <th>6</th>\n",
       "      <td>weather</td>\n",
       "      <td>object</td>\n",
       "    </tr>\n",
       "    <tr>\n",
       "      <th>7</th>\n",
       "      <td>temp</td>\n",
       "      <td>float64</td>\n",
       "    </tr>\n",
       "    <tr>\n",
       "      <th>8</th>\n",
       "      <td>feel_temp</td>\n",
       "      <td>float64</td>\n",
       "    </tr>\n",
       "    <tr>\n",
       "      <th>9</th>\n",
       "      <td>hum</td>\n",
       "      <td>float64</td>\n",
       "    </tr>\n",
       "    <tr>\n",
       "      <th>10</th>\n",
       "      <td>windspeed</td>\n",
       "      <td>float64</td>\n",
       "    </tr>\n",
       "    <tr>\n",
       "      <th>11</th>\n",
       "      <td>promotion_level</td>\n",
       "      <td>int64</td>\n",
       "    </tr>\n",
       "    <tr>\n",
       "      <th>12</th>\n",
       "      <td>promotion_type</td>\n",
       "      <td>int64</td>\n",
       "    </tr>\n",
       "    <tr>\n",
       "      <th>13</th>\n",
       "      <td>promotion_level_external</td>\n",
       "      <td>int64</td>\n",
       "    </tr>\n",
       "    <tr>\n",
       "      <th>14</th>\n",
       "      <td>promotion_type_external</td>\n",
       "      <td>int64</td>\n",
       "    </tr>\n",
       "    <tr>\n",
       "      <th>15</th>\n",
       "      <td>casual</td>\n",
       "      <td>int64</td>\n",
       "    </tr>\n",
       "    <tr>\n",
       "      <th>16</th>\n",
       "      <td>registered</td>\n",
       "      <td>int64</td>\n",
       "    </tr>\n",
       "    <tr>\n",
       "      <th>17</th>\n",
       "      <td>cnt</td>\n",
       "      <td>int64</td>\n",
       "    </tr>\n",
       "  </tbody>\n",
       "</table>\n",
       "</div>"
      ],
      "text/plain": [
       "                     Feature Data Type\n",
       "0                         id     int64\n",
       "1                     season    object\n",
       "2                       year     int64\n",
       "3                    holiday     int64\n",
       "4                    weekday     int64\n",
       "5                 workingday     int64\n",
       "6                    weather    object\n",
       "7                       temp   float64\n",
       "8                  feel_temp   float64\n",
       "9                        hum   float64\n",
       "10                 windspeed   float64\n",
       "11           promotion_level     int64\n",
       "12            promotion_type     int64\n",
       "13  promotion_level_external     int64\n",
       "14   promotion_type_external     int64\n",
       "15                    casual     int64\n",
       "16                registered     int64\n",
       "17                       cnt     int64"
      ]
     },
     "execution_count": 34,
     "metadata": {},
     "output_type": "execute_result"
    }
   ],
   "source": [
    "# print the data types of each feature name\n",
    "o = {\n",
    "    \"Feature\" : [],\n",
    "    \"Data Type\": []\n",
    "}\n",
    "for feature in data:\n",
    "    o[\"Feature\"].append(feature)\n",
    "    o[\"Data Type\"].append(data[feature].dtype)\n",
    "o = pd.DataFrame(o)\n",
    "o"
   ]
  },
  {
   "cell_type": "code",
   "execution_count": 35,
   "metadata": {
    "colab": {},
    "colab_type": "code",
    "id": "RE0sjCi4kREL"
   },
   "outputs": [
    {
     "name": "stdout",
     "output_type": "stream",
     "text": [
      "<class 'pandas.core.frame.DataFrame'>\n",
      "RangeIndex: 365 entries, 0 to 364\n",
      "Data columns (total 18 columns):\n",
      " #   Column                    Non-Null Count  Dtype  \n",
      "---  ------                    --------------  -----  \n",
      " 0   id                        365 non-null    int64  \n",
      " 1   season                    365 non-null    object \n",
      " 2   year                      365 non-null    int64  \n",
      " 3   holiday                   365 non-null    int64  \n",
      " 4   weekday                   365 non-null    int64  \n",
      " 5   workingday                365 non-null    int64  \n",
      " 6   weather                   365 non-null    object \n",
      " 7   temp                      365 non-null    float64\n",
      " 8   feel_temp                 365 non-null    float64\n",
      " 9   hum                       365 non-null    float64\n",
      " 10  windspeed                 365 non-null    float64\n",
      " 11  promotion_level           365 non-null    int64  \n",
      " 12  promotion_type            365 non-null    int64  \n",
      " 13  promotion_level_external  365 non-null    int64  \n",
      " 14  promotion_type_external   365 non-null    int64  \n",
      " 15  casual                    365 non-null    int64  \n",
      " 16  registered                365 non-null    int64  \n",
      " 17  cnt                       365 non-null    int64  \n",
      "dtypes: float64(4), int64(12), object(2)\n",
      "memory usage: 51.5+ KB\n"
     ]
    }
   ],
   "source": [
    "# check for null values in each column\n",
    "data.info()"
   ]
  },
  {
   "cell_type": "code",
   "execution_count": 36,
   "metadata": {
    "colab": {},
    "colab_type": "code",
    "id": "jWJz8TAgketK"
   },
   "outputs": [
    {
     "data": {
      "text/plain": [
       "[array(['winter', 'winter', 'winter', 'winter', 'winter', 'winter',\n",
       "        'winter', 'winter', 'winter', 'winter', 'winter', 'winter',\n",
       "        'winter', 'winter', 'winter', 'winter', 'winter', 'winter',\n",
       "        'winter', 'winter', 'winter', 'winter', 'winter', 'winter',\n",
       "        'winter', 'winter', 'winter', 'winter', 'winter', 'winter',\n",
       "        'winter', 'winter', 'winter', 'winter', 'winter', 'winter',\n",
       "        'winter', 'winter', 'winter', 'winter', 'winter', 'winter',\n",
       "        'winter', 'winter', 'winter', 'winter', 'winter', 'winter',\n",
       "        'winter', 'winter', 'winter', 'winter', 'winter', 'winter',\n",
       "        'winter', 'winter', 'winter', 'winter', 'winter', 'spring',\n",
       "        'spring', 'spring', 'spring', 'spring', 'spring', 'spring',\n",
       "        'spring', 'spring', 'spring', 'spring', 'spring', 'spring',\n",
       "        'spring', 'spring', 'spring', 'spring', 'spring', 'spring',\n",
       "        'spring', 'spring', 'spring', 'spring', 'spring', 'spring',\n",
       "        'spring', 'spring', 'spring', 'spring', 'spring', 'spring',\n",
       "        'spring', 'spring', 'spring', 'spring', 'spring', 'spring',\n",
       "        'spring', 'spring', 'spring', 'spring', 'spring', 'spring',\n",
       "        'spring', 'spring', 'spring', 'spring', 'spring', 'spring',\n",
       "        'spring', 'spring', 'spring', 'spring', 'spring', 'spring',\n",
       "        'spring', 'spring', 'spring', 'spring', 'spring', 'spring',\n",
       "        'spring', 'spring', 'spring', 'spring', 'spring', 'spring',\n",
       "        'spring', 'spring', 'spring', 'spring', 'spring', 'spring',\n",
       "        'spring', 'spring', 'spring', 'spring', 'spring', 'spring',\n",
       "        'spring', 'spring', 'spring', 'spring', 'spring', 'spring',\n",
       "        'spring', 'spring', 'spring', 'spring', 'spring', 'spring',\n",
       "        'spring', 'summer', 'summer', 'summer', 'summer', 'summer',\n",
       "        'summer', 'summer', 'summer', 'summer', 'summer', 'summer',\n",
       "        'summer', 'summer', 'summer', 'summer', 'summer', 'summer',\n",
       "        'summer', 'summer', 'summer', 'summer', 'summer', 'summer',\n",
       "        'summer', 'summer', 'summer', 'summer', 'summer', 'summer',\n",
       "        'summer', 'summer', 'summer', 'summer', 'summer', 'summer',\n",
       "        'summer', 'summer', 'summer', 'summer', 'summer', 'summer',\n",
       "        'summer', 'summer', 'summer', 'summer', 'summer', 'summer',\n",
       "        'summer', 'summer', 'summer', 'summer', 'summer', 'summer',\n",
       "        'summer', 'summer', 'summer', 'summer', 'summer', 'summer',\n",
       "        'summer', 'summer', 'summer', 'summer', 'summer', 'summer',\n",
       "        'summer', 'summer', 'summer', 'summer', 'summer', 'summer',\n",
       "        'summer', 'summer', 'summer', 'summer', 'summer', 'summer',\n",
       "        'summer', 'summer', 'summer', 'summer', 'summer', 'summer',\n",
       "        'summer', 'summer', 'summer', 'summer', 'summer', 'summer',\n",
       "        'summer', 'summer', 'summer', 'autumn', 'autumn', 'autumn',\n",
       "        'autumn', 'autumn', 'autumn', 'autumn', 'autumn', 'autumn',\n",
       "        'autumn', 'autumn', 'autumn', 'autumn', 'autumn', 'autumn',\n",
       "        'autumn', 'autumn', 'autumn', 'autumn', 'autumn', 'autumn',\n",
       "        'autumn', 'autumn', 'autumn', 'autumn', 'autumn', 'autumn',\n",
       "        'autumn', 'autumn', 'autumn', 'autumn', 'autumn', 'autumn',\n",
       "        'autumn', 'autumn', 'autumn', 'autumn', 'autumn', 'autumn',\n",
       "        'autumn', 'autumn', 'autumn', 'autumn', 'autumn', 'autumn',\n",
       "        'autumn', 'autumn', 'autumn', 'autumn', 'autumn', 'autumn',\n",
       "        'autumn', 'autumn', 'autumn', 'autumn', 'autumn', 'autumn',\n",
       "        'autumn', 'autumn', 'autumn', 'autumn', 'autumn', 'autumn',\n",
       "        'autumn', 'autumn', 'autumn', 'autumn', 'autumn', 'autumn',\n",
       "        'autumn', 'autumn', 'autumn', 'autumn', 'autumn', 'autumn',\n",
       "        'autumn', 'autumn', 'autumn', 'autumn', 'autumn', 'autumn',\n",
       "        'autumn', 'autumn', 'autumn', 'autumn', 'autumn', 'autumn',\n",
       "        'autumn', 'autumn', 'autumn', 'autumn', 'winter', 'winter',\n",
       "        'winter', 'winter', 'winter', 'winter', 'winter', 'winter',\n",
       "        'winter', 'winter', 'winter', 'winter', 'winter', 'winter',\n",
       "        'winter', 'winter', 'winter', 'winter', 'winter', 'winter',\n",
       "        'winter', 'winter', 'winter', 'winter', 'winter', 'winter',\n",
       "        'winter', 'winter', 'winter', 'winter', 'winter'], dtype=object),\n",
       " array([2016, 2016, 2016, 2016, 2016, 2016, 2016, 2016, 2016, 2016, 2016,\n",
       "        2016, 2016, 2016, 2016, 2016, 2016, 2016, 2016, 2016, 2016, 2016,\n",
       "        2016, 2016, 2016, 2016, 2016, 2016, 2016, 2016, 2016, 2016, 2016,\n",
       "        2016, 2016, 2016, 2016, 2016, 2016, 2016, 2016, 2016, 2016, 2016,\n",
       "        2016, 2016, 2016, 2016, 2016, 2016, 2016, 2016, 2016, 2016, 2016,\n",
       "        2016, 2016, 2016, 2016, 2016, 2016, 2016, 2016, 2016, 2016, 2016,\n",
       "        2016, 2016, 2016, 2016, 2016, 2016, 2016, 2016, 2016, 2016, 2016,\n",
       "        2016, 2016, 2016, 2016, 2016, 2016, 2016, 2016, 2016, 2016, 2016,\n",
       "        2016, 2016, 2016, 2016, 2016, 2016, 2016, 2016, 2016, 2016, 2016,\n",
       "        2016, 2016, 2016, 2016, 2016, 2016, 2016, 2016, 2016, 2016, 2016,\n",
       "        2016, 2016, 2016, 2016, 2016, 2016, 2016, 2016, 2016, 2016, 2016,\n",
       "        2016, 2016, 2016, 2016, 2016, 2016, 2016, 2016, 2016, 2016, 2016,\n",
       "        2016, 2016, 2016, 2016, 2016, 2016, 2016, 2016, 2016, 2016, 2016,\n",
       "        2016, 2016, 2016, 2016, 2016, 2016, 2016, 2016, 2016, 2016, 2016,\n",
       "        2016, 2016, 2016, 2016, 2016, 2016, 2016, 2016, 2016, 2016, 2016,\n",
       "        2016, 2016, 2016, 2016, 2016, 2016, 2016, 2016, 2016, 2016, 2016,\n",
       "        2016, 2016, 2016, 2016, 2016, 2016, 2016, 2016, 2016, 2016, 2016,\n",
       "        2016, 2016, 2016, 2016, 2016, 2016, 2016, 2016, 2016, 2016, 2016,\n",
       "        2016, 2016, 2016, 2016, 2016, 2016, 2016, 2016, 2016, 2016, 2016,\n",
       "        2016, 2016, 2016, 2016, 2016, 2016, 2016, 2016, 2016, 2016, 2016,\n",
       "        2016, 2016, 2016, 2016, 2016, 2016, 2016, 2016, 2016, 2016, 2016,\n",
       "        2016, 2016, 2016, 2016, 2016, 2016, 2016, 2016, 2016, 2016, 2016,\n",
       "        2016, 2016, 2016, 2016, 2016, 2016, 2016, 2016, 2016, 2016, 2016,\n",
       "        2016, 2016, 2016, 2016, 2016, 2016, 2016, 2016, 2016, 2016, 2016,\n",
       "        2016, 2016, 2016, 2016, 2016, 2016, 2016, 2016, 2016, 2016, 2016,\n",
       "        2016, 2016, 2016, 2016, 2016, 2016, 2016, 2016, 2016, 2016, 2016,\n",
       "        2016, 2016, 2016, 2016, 2016, 2016, 2016, 2016, 2016, 2016, 2016,\n",
       "        2016, 2016, 2016, 2016, 2016, 2016, 2016, 2016, 2016, 2016, 2016,\n",
       "        2016, 2016, 2016, 2016, 2016, 2016, 2016, 2016, 2016, 2016, 2016,\n",
       "        2016, 2016, 2016, 2016, 2016, 2016, 2016, 2016, 2016, 2016, 2016,\n",
       "        2016, 2016, 2016, 2016, 2016, 2016, 2016, 2016, 2016, 2016, 2016,\n",
       "        2016, 2016, 2016, 2016, 2016, 2016, 2016, 2016, 2016, 2016, 2016,\n",
       "        2016, 2016, 2016, 2016, 2016, 2016, 2016, 2016, 2016, 2016, 2016,\n",
       "        2016, 2016]),\n",
       " array(['cloud', 'cloud', 'fair', 'fair', 'fair', 'fair', 'cloud', 'cloud',\n",
       "        'fair', 'fair', 'cloud', 'fair', 'fair', 'fair', 'cloud', 'fair',\n",
       "        'cloud', 'cloud', 'cloud', 'cloud', 'fair', 'fair', 'fair', 'fair',\n",
       "        'cloud', 'rain', 'fair', 'cloud', 'fair', 'fair', 'cloud', 'cloud',\n",
       "        'cloud', 'fair', 'cloud', 'cloud', 'fair', 'fair', 'fair', 'cloud',\n",
       "        'fair', 'fair', 'fair', 'fair', 'fair', 'fair', 'fair', 'fair',\n",
       "        'fair', 'fair', 'fair', 'cloud', 'fair', 'fair', 'cloud', 'cloud',\n",
       "        'fair', 'fair', 'cloud', 'fair', 'fair', 'fair', 'cloud', 'cloud',\n",
       "        'cloud', 'fair', 'fair', 'cloud', 'rain', 'cloud', 'fair', 'fair',\n",
       "        'fair', 'cloud', 'cloud', 'fair', 'fair', 'fair', 'fair', 'cloud',\n",
       "        'fair', 'cloud', 'cloud', 'fair', 'fair', 'cloud', 'fair', 'fair',\n",
       "        'cloud', 'rain', 'cloud', 'cloud', 'fair', 'fair', 'cloud', 'fair',\n",
       "        'fair', 'cloud', 'cloud', 'cloud', 'cloud', 'cloud', 'cloud',\n",
       "        'fair', 'fair', 'rain', 'fair', 'fair', 'cloud', 'fair', 'fair',\n",
       "        'cloud', 'cloud', 'cloud', 'fair', 'fair', 'cloud', 'cloud',\n",
       "        'fair', 'fair', 'cloud', 'cloud', 'cloud', 'cloud', 'fair', 'fair',\n",
       "        'fair', 'fair', 'fair', 'fair', 'fair', 'fair', 'cloud', 'cloud',\n",
       "        'cloud', 'fair', 'cloud', 'cloud', 'cloud', 'fair', 'fair', 'fair',\n",
       "        'cloud', 'cloud', 'fair', 'fair', 'fair', 'fair', 'fair', 'fair',\n",
       "        'fair', 'cloud', 'fair', 'fair', 'fair', 'cloud', 'fair', 'fair',\n",
       "        'fair', 'cloud', 'fair', 'fair', 'fair', 'fair', 'fair', 'fair',\n",
       "        'cloud', 'fair', 'fair', 'cloud', 'cloud', 'cloud', 'fair',\n",
       "        'cloud', 'fair', 'fair', 'fair', 'cloud', 'fair', 'fair', 'fair',\n",
       "        'fair', 'fair', 'cloud', 'cloud', 'fair', 'fair', 'fair', 'cloud',\n",
       "        'fair', 'fair', 'fair', 'fair', 'fair', 'fair', 'fair', 'fair',\n",
       "        'fair', 'fair', 'fair', 'fair', 'cloud', 'fair', 'fair', 'fair',\n",
       "        'fair', 'fair', 'fair', 'fair', 'fair', 'fair', 'fair', 'fair',\n",
       "        'fair', 'cloud', 'cloud', 'fair', 'cloud', 'fair', 'fair', 'fair',\n",
       "        'fair', 'fair', 'fair', 'cloud', 'cloud', 'fair', 'fair', 'fair',\n",
       "        'fair', 'cloud', 'fair', 'fair', 'fair', 'fair', 'fair', 'cloud',\n",
       "        'fair', 'cloud', 'fair', 'fair', 'fair', 'fair', 'fair', 'cloud',\n",
       "        'fair', 'fair', 'cloud', 'rain', 'rain', 'rain', 'cloud', 'fair',\n",
       "        'fair', 'fair', 'fair', 'fair', 'cloud', 'cloud', 'cloud', 'fair',\n",
       "        'cloud', 'cloud', 'cloud', 'cloud', 'cloud', 'cloud', 'cloud',\n",
       "        'cloud', 'cloud', 'cloud', 'fair', 'fair', 'cloud', 'cloud',\n",
       "        'cloud', 'fair', 'fair', 'fair', 'fair', 'fair', 'fair', 'fair',\n",
       "        'cloud', 'rain', 'cloud', 'cloud', 'fair', 'fair', 'fair', 'cloud',\n",
       "        'rain', 'fair', 'fair', 'fair', 'fair', 'fair', 'fair', 'cloud',\n",
       "        'cloud', 'cloud', 'rain', 'fair', 'fair', 'fair', 'fair', 'fair',\n",
       "        'cloud', 'fair', 'fair', 'fair', 'fair', 'fair', 'cloud', 'fair',\n",
       "        'fair', 'fair', 'fair', 'cloud', 'rain', 'cloud', 'fair', 'fair',\n",
       "        'cloud', 'rain', 'rain', 'cloud', 'fair', 'fair', 'fair', 'fair',\n",
       "        'fair', 'cloud', 'fair', 'fair', 'fair', 'fair', 'fair', 'cloud',\n",
       "        'rain', 'rain', 'fair', 'fair', 'fair', 'fair', 'fair', 'fair',\n",
       "        'cloud', 'cloud', 'cloud', 'cloud', 'fair', 'fair', 'cloud',\n",
       "        'cloud', 'cloud', 'fair', 'fair', 'fair', 'fair', 'cloud', 'fair',\n",
       "        'fair', 'fair', 'fair'], dtype=object),\n",
       " array([1, 1, 1, 1, 0, 0, 1, 1, 1, 0, 0, 0, 1, 1, 0, 0, 0, 1, 1, 1, 1, 0,\n",
       "        0, 0, 1, 1, 1, 0, 0, 0, 0, 0, 1, 1, 0, 1, 1, 0, 0, 0, 0, 1, 1, 1,\n",
       "        0, 1, 0, 0, 1, 1, 1, 1, 1, 0, 1, 1, 1, 1, 1, 1, 0, 1, 1, 1, 0, 0,\n",
       "        0, 1, 1, 1, 1, 1, 1, 1, 1, 1, 0, 0, 0, 0, 0, 1, 1, 0, 0, 0, 0, 1,\n",
       "        0, 1, 1, 0, 0, 0, 0, 0, 0, 0, 0, 1, 0, 0, 0, 1, 0, 1, 0, 1, 1, 1,\n",
       "        0, 0, 1, 1, 0, 0, 1, 1, 1, 1, 0, 1, 0, 0, 1, 0, 1, 1, 0, 0, 0, 0,\n",
       "        0, 0, 1, 1, 1, 0, 0, 0, 0, 0, 0, 1, 0, 0, 0, 1, 0, 0, 1, 0, 0, 1,\n",
       "        1, 1, 0, 1, 1, 0, 0, 1, 0, 0, 1, 1, 1, 1, 0, 0, 0, 0, 1, 1, 0, 0,\n",
       "        1, 1, 0, 1, 0, 0, 0, 1, 1, 1, 0, 1, 1, 0, 0, 1, 0, 0, 0, 0, 1, 0,\n",
       "        1, 0, 1, 1, 0, 1, 0, 0, 1, 1, 1, 0, 1, 1, 0, 1, 1, 1, 0, 1, 1, 1,\n",
       "        1, 1, 0, 1, 0, 0, 1, 1, 0, 0, 0, 0, 0, 0, 0, 0, 0, 1, 0, 1, 1, 1,\n",
       "        1, 1, 1, 0, 0, 1, 0, 1, 1, 0, 1, 0, 1, 1, 1, 1, 1, 1, 1, 1, 1, 1,\n",
       "        1, 0, 1, 1, 0, 0, 1, 0, 1, 0, 0, 1, 1, 1, 0, 0, 1, 0, 1, 1, 1, 0,\n",
       "        1, 0, 1, 0, 0, 1, 1, 1, 0, 1, 0, 1, 0, 0, 0, 1, 0, 0, 0, 0, 1, 1,\n",
       "        1, 0, 1, 1, 1, 0, 1, 0, 0, 1, 0, 0, 0, 0, 1, 1, 0, 0, 0, 0, 1, 0,\n",
       "        0, 0, 1, 1, 0, 0, 1, 0, 0, 1, 0, 0, 1, 0, 1, 0, 1, 0, 0, 1, 1, 1,\n",
       "        1, 0, 1, 0, 1, 1, 0, 0, 1, 0, 0, 0, 0])]"
      ]
     },
     "execution_count": 36,
     "metadata": {},
     "output_type": "execute_result"
    }
   ],
   "source": [
    "# print out the unique values of the features ['season', 'year', 'weather', 'promotion_type']\n",
    "unique = ['season', 'year', 'weather', 'promotion_type']\n",
    "[data[feature].values for feature in unique]"
   ]
  },
  {
   "cell_type": "code",
   "execution_count": 37,
   "metadata": {
    "colab": {},
    "colab_type": "code",
    "id": "1nkDe68NkyZ2"
   },
   "outputs": [
    {
     "data": {
      "text/plain": [
       "[summer    92\n",
       " spring    92\n",
       " autumn    91\n",
       " winter    90\n",
       " Name: season, dtype: int64,\n",
       " 2016    365\n",
       " Name: year, dtype: int64,\n",
       " fair     226\n",
       " cloud    124\n",
       " rain      15\n",
       " Name: weather, dtype: int64,\n",
       " 1    183\n",
       " 0    182\n",
       " Name: promotion_type, dtype: int64]"
      ]
     },
     "execution_count": 37,
     "metadata": {},
     "output_type": "execute_result"
    }
   ],
   "source": [
    "# print out the value counts (frequency of occurence) of the unique values in these features ['season', 'year', 'weather', 'promotion_type']\n",
    "[data[feature].value_counts() for feature in unique]"
   ]
  },
  {
   "cell_type": "code",
   "execution_count": 38,
   "metadata": {
    "colab": {},
    "colab_type": "code",
    "id": "yIsIIQWFmJRK"
   },
   "outputs": [
    {
     "data": {
      "text/plain": [
       "(365, 18)"
      ]
     },
     "execution_count": 38,
     "metadata": {},
     "output_type": "execute_result"
    }
   ],
   "source": [
    "# print the shape of data\n",
    "data.shape"
   ]
  },
  {
   "cell_type": "code",
   "execution_count": 39,
   "metadata": {
    "colab": {},
    "colab_type": "code",
    "id": "1xXsOHMilNTz"
   },
   "outputs": [],
   "source": [
    "# drop the feature 'id' as it has no information to deliver.\n",
    "data = data.drop('year', axis = 1)"
   ]
  },
  {
   "cell_type": "code",
   "execution_count": 40,
   "metadata": {},
   "outputs": [],
   "source": [
    "data = data.drop('id', axis = 1)"
   ]
  },
  {
   "cell_type": "code",
   "execution_count": 41,
   "metadata": {
    "colab": {},
    "colab_type": "code",
    "id": "i4BXZ-_qmNYh"
   },
   "outputs": [
    {
     "data": {
      "text/plain": [
       "(365, 16)"
      ]
     },
     "execution_count": 41,
     "metadata": {},
     "output_type": "execute_result"
    }
   ],
   "source": [
    "# print the shape of data\n",
    "data.shape"
   ]
  },
  {
   "cell_type": "code",
   "execution_count": 42,
   "metadata": {},
   "outputs": [
    {
     "data": {
      "text/plain": [
       "[summer    92\n",
       " spring    92\n",
       " autumn    91\n",
       " winter    90\n",
       " Name: season, dtype: int64,\n",
       " 0    355\n",
       " 1     10\n",
       " Name: holiday, dtype: int64,\n",
       " 6    53\n",
       " 5    52\n",
       " 4    52\n",
       " 3    52\n",
       " 2    52\n",
       " 1    52\n",
       " 0    52\n",
       " Name: weekday, dtype: int64,\n",
       " 1    250\n",
       " 0    115\n",
       " Name: workingday, dtype: int64,\n",
       " fair     226\n",
       " cloud    124\n",
       " rain      15\n",
       " Name: weather, dtype: int64,\n",
       " 0.635000    4\n",
       " 0.673333    3\n",
       " 0.775000    3\n",
       " 0.410000    3\n",
       " 0.733333    3\n",
       "            ..\n",
       " 0.216522    1\n",
       " 0.648333    1\n",
       " 0.726667    1\n",
       " 0.348333    1\n",
       " 0.437500    1\n",
       " Name: temp, Length: 294, dtype: int64,\n",
       " 0.466525    2\n",
       " 0.398350    2\n",
       " 0.318812    2\n",
       " 0.522721    2\n",
       " 0.529675    2\n",
       "            ..\n",
       " 0.186033    1\n",
       " 0.651521    1\n",
       " 0.538529    1\n",
       " 0.451988    1\n",
       " 0.219700    1\n",
       " Name: feel_temp, Length: 353, dtype: int64,\n",
       " 0.605000    3\n",
       " 0.729583    3\n",
       " 0.542500    3\n",
       " 0.805833    2\n",
       " 0.574167    2\n",
       "            ..\n",
       " 0.580417    1\n",
       " 0.400000    1\n",
       " 0.637500    1\n",
       " 0.682500    1\n",
       " 0.741739    1\n",
       " Name: hum, Length: 332, dtype: int64,\n",
       " 0.110700    2\n",
       " 0.149883    2\n",
       " 0.207092    2\n",
       " 0.361950    2\n",
       " 0.118792    2\n",
       "            ..\n",
       " 0.324474    1\n",
       " 0.126548    1\n",
       " 0.060958    1\n",
       " 0.092667    1\n",
       " 0.368167    1\n",
       " Name: windspeed, Length: 349, dtype: int64,\n",
       " 5    81\n",
       " 4    73\n",
       " 6    53\n",
       " 3    47\n",
       " 7    39\n",
       " 2    28\n",
       " 1    18\n",
       " 8    15\n",
       " 0     8\n",
       " 9     3\n",
       " Name: promotion_level, dtype: int64,\n",
       " 1    183\n",
       " 0    182\n",
       " Name: promotion_type, dtype: int64,\n",
       " 3     49\n",
       " 1     45\n",
       " 4     38\n",
       " 2     38\n",
       " 5     36\n",
       " 9     34\n",
       " 6     34\n",
       " 10    33\n",
       " 8     30\n",
       " 7     28\n",
       " Name: promotion_level_external, dtype: int64,\n",
       " 1    107\n",
       " 3     88\n",
       " 0     87\n",
       " 2     83\n",
       " Name: promotion_type_external, dtype: int64,\n",
       " 98      4\n",
       " 407     4\n",
       " 143     3\n",
       " 508     3\n",
       " 611     2\n",
       "        ..\n",
       " 263     1\n",
       " 312     1\n",
       " 1072    1\n",
       " 812     1\n",
       " 0       1\n",
       " Name: casual, Length: 288, dtype: int64,\n",
       " 2419    2\n",
       " 1506    2\n",
       " 3896    2\n",
       " 1454    2\n",
       " 1707    2\n",
       "        ..\n",
       " 3347    1\n",
       " 1871    1\n",
       " 3614    1\n",
       " 1362    1\n",
       " 1026    1\n",
       " Name: registered, Length: 347, dtype: int64,\n",
       " 3983    3\n",
       " 4481    2\n",
       " 1681    2\n",
       " 3435    2\n",
       " 3637    2\n",
       "        ..\n",
       " 4432    1\n",
       " 1873    1\n",
       " 2387    1\n",
       " 4163    1\n",
       " 2681    1\n",
       " Name: cnt, Length: 345, dtype: int64]"
      ]
     },
     "execution_count": 42,
     "metadata": {},
     "output_type": "execute_result"
    }
   ],
   "source": [
    "[data[feature].value_counts() for feature in data.columns]"
   ]
  },
  {
   "cell_type": "code",
   "execution_count": 43,
   "metadata": {
    "colab": {},
    "colab_type": "code",
    "id": "1G-eQ8ULmO3J"
   },
   "outputs": [],
   "source": [
    "# one hot encode the categorical columns.\n",
    "cats = ['weekday', 'season', 'weather']\n",
    "for cat in cats:\n",
    "    data = pd.concat([data,pd.get_dummies(data[cat], prefix=cat,dummy_na=True)],axis=1)\n",
    "    data.drop([cat],axis=1, inplace=True)"
   ]
  },
  {
   "cell_type": "code",
   "execution_count": 44,
   "metadata": {
    "colab": {},
    "colab_type": "code",
    "id": "qcf6heimmZaQ"
   },
   "outputs": [
    {
     "data": {
      "text/plain": [
       "(365, 30)"
      ]
     },
     "execution_count": 44,
     "metadata": {},
     "output_type": "execute_result"
    }
   ],
   "source": [
    "# print the shape of data \n",
    "# notice the increase in the no. of features\n",
    "data.shape"
   ]
  },
  {
   "cell_type": "markdown",
   "metadata": {
    "colab_type": "text",
    "id": "vLOkfanFfWDK"
   },
   "source": [
    "Notice that our target feature \"cnt\" is the sum of the features \"registered\" + \"casual\"<br>\n",
    "\n",
    "To avoid data leakage remove the feature \"casual\" for the training purpose. <br>\n",
    "\n",
    "To understand more about data leakage refer the article mentioned in the uselful links."
   ]
  },
  {
   "cell_type": "code",
   "execution_count": 45,
   "metadata": {
    "colab": {},
    "colab_type": "code",
    "id": "vZ2HK7RGmO63"
   },
   "outputs": [],
   "source": [
    "# Split the dataset into X and y\n",
    "# While loading data into X drop the columns \"cnt\" and \"casual\". \n",
    "X = data.drop(['cnt', 'casual'], axis=1)\n",
    "# notice the target variable is 'cnt'\n",
    "y = data['cnt']"
   ]
  },
  {
   "cell_type": "code",
   "execution_count": 46,
   "metadata": {
    "colab": {},
    "colab_type": "code",
    "id": "y1kT6PpR4F1s"
   },
   "outputs": [
    {
     "name": "stdout",
     "output_type": "stream",
     "text": [
      "['holiday', 'workingday', 'temp', 'feel_temp', 'hum', 'windspeed', 'promotion_level', 'promotion_type', 'promotion_level_external', 'promotion_type_external', 'registered', 'weekday_0.0', 'weekday_1.0', 'weekday_2.0', 'weekday_3.0', 'weekday_4.0', 'weekday_5.0', 'weekday_6.0', 'weekday_nan', 'season_autumn', 'season_spring', 'season_summer', 'season_winter', 'season_nan', 'weather_cloud', 'weather_fair', 'weather_rain', 'weather_nan']\n"
     ]
    }
   ],
   "source": [
    "# store the names of the training features / name of the columns used for training. [Very important step for visualization later.]\n",
    "\n",
    "train_columns = list(X.columns)\n",
    "print(train_columns)"
   ]
  },
  {
   "cell_type": "code",
   "execution_count": 47,
   "metadata": {
    "colab": {},
    "colab_type": "code",
    "id": "6blYZrz7mPBG"
   },
   "outputs": [
    {
     "data": {
      "text/html": [
       "<div>\n",
       "<style scoped>\n",
       "    .dataframe tbody tr th:only-of-type {\n",
       "        vertical-align: middle;\n",
       "    }\n",
       "\n",
       "    .dataframe tbody tr th {\n",
       "        vertical-align: top;\n",
       "    }\n",
       "\n",
       "    .dataframe thead th {\n",
       "        text-align: right;\n",
       "    }\n",
       "</style>\n",
       "<table border=\"1\" class=\"dataframe\">\n",
       "  <thead>\n",
       "    <tr style=\"text-align: right;\">\n",
       "      <th></th>\n",
       "      <th>holiday</th>\n",
       "      <th>workingday</th>\n",
       "      <th>temp</th>\n",
       "      <th>feel_temp</th>\n",
       "      <th>hum</th>\n",
       "      <th>windspeed</th>\n",
       "      <th>promotion_level</th>\n",
       "      <th>promotion_type</th>\n",
       "      <th>promotion_level_external</th>\n",
       "      <th>promotion_type_external</th>\n",
       "      <th>...</th>\n",
       "      <th>weekday_nan</th>\n",
       "      <th>season_autumn</th>\n",
       "      <th>season_spring</th>\n",
       "      <th>season_summer</th>\n",
       "      <th>season_winter</th>\n",
       "      <th>season_nan</th>\n",
       "      <th>weather_cloud</th>\n",
       "      <th>weather_fair</th>\n",
       "      <th>weather_rain</th>\n",
       "      <th>weather_nan</th>\n",
       "    </tr>\n",
       "  </thead>\n",
       "  <tbody>\n",
       "    <tr>\n",
       "      <th>count</th>\n",
       "      <td>365.000000</td>\n",
       "      <td>365.000000</td>\n",
       "      <td>365.000000</td>\n",
       "      <td>365.000000</td>\n",
       "      <td>365.000000</td>\n",
       "      <td>365.000000</td>\n",
       "      <td>365.000000</td>\n",
       "      <td>365.000000</td>\n",
       "      <td>365.000000</td>\n",
       "      <td>365.000000</td>\n",
       "      <td>...</td>\n",
       "      <td>365.0</td>\n",
       "      <td>365.000000</td>\n",
       "      <td>365.000000</td>\n",
       "      <td>365.000000</td>\n",
       "      <td>365.000000</td>\n",
       "      <td>365.0</td>\n",
       "      <td>365.000000</td>\n",
       "      <td>365.000000</td>\n",
       "      <td>365.000000</td>\n",
       "      <td>365.0</td>\n",
       "    </tr>\n",
       "    <tr>\n",
       "      <th>mean</th>\n",
       "      <td>0.027397</td>\n",
       "      <td>0.684932</td>\n",
       "      <td>0.486665</td>\n",
       "      <td>0.466835</td>\n",
       "      <td>0.643665</td>\n",
       "      <td>0.191403</td>\n",
       "      <td>4.520548</td>\n",
       "      <td>0.501370</td>\n",
       "      <td>5.139726</td>\n",
       "      <td>1.471233</td>\n",
       "      <td>...</td>\n",
       "      <td>0.0</td>\n",
       "      <td>0.249315</td>\n",
       "      <td>0.252055</td>\n",
       "      <td>0.252055</td>\n",
       "      <td>0.246575</td>\n",
       "      <td>0.0</td>\n",
       "      <td>0.339726</td>\n",
       "      <td>0.619178</td>\n",
       "      <td>0.041096</td>\n",
       "      <td>0.0</td>\n",
       "    </tr>\n",
       "    <tr>\n",
       "      <th>std</th>\n",
       "      <td>0.163462</td>\n",
       "      <td>0.465181</td>\n",
       "      <td>0.189596</td>\n",
       "      <td>0.168836</td>\n",
       "      <td>0.148744</td>\n",
       "      <td>0.076890</td>\n",
       "      <td>1.896422</td>\n",
       "      <td>0.500684</td>\n",
       "      <td>2.905978</td>\n",
       "      <td>1.100634</td>\n",
       "      <td>...</td>\n",
       "      <td>0.0</td>\n",
       "      <td>0.433210</td>\n",
       "      <td>0.434789</td>\n",
       "      <td>0.434789</td>\n",
       "      <td>0.431609</td>\n",
       "      <td>0.0</td>\n",
       "      <td>0.474266</td>\n",
       "      <td>0.486255</td>\n",
       "      <td>0.198785</td>\n",
       "      <td>0.0</td>\n",
       "    </tr>\n",
       "    <tr>\n",
       "      <th>min</th>\n",
       "      <td>0.000000</td>\n",
       "      <td>0.000000</td>\n",
       "      <td>0.059130</td>\n",
       "      <td>0.079070</td>\n",
       "      <td>0.000000</td>\n",
       "      <td>0.022392</td>\n",
       "      <td>0.000000</td>\n",
       "      <td>0.000000</td>\n",
       "      <td>1.000000</td>\n",
       "      <td>0.000000</td>\n",
       "      <td>...</td>\n",
       "      <td>0.0</td>\n",
       "      <td>0.000000</td>\n",
       "      <td>0.000000</td>\n",
       "      <td>0.000000</td>\n",
       "      <td>0.000000</td>\n",
       "      <td>0.0</td>\n",
       "      <td>0.000000</td>\n",
       "      <td>0.000000</td>\n",
       "      <td>0.000000</td>\n",
       "      <td>0.0</td>\n",
       "    </tr>\n",
       "    <tr>\n",
       "      <th>25%</th>\n",
       "      <td>0.000000</td>\n",
       "      <td>0.000000</td>\n",
       "      <td>0.325000</td>\n",
       "      <td>0.321954</td>\n",
       "      <td>0.538333</td>\n",
       "      <td>0.135583</td>\n",
       "      <td>3.000000</td>\n",
       "      <td>0.000000</td>\n",
       "      <td>3.000000</td>\n",
       "      <td>1.000000</td>\n",
       "      <td>...</td>\n",
       "      <td>0.0</td>\n",
       "      <td>0.000000</td>\n",
       "      <td>0.000000</td>\n",
       "      <td>0.000000</td>\n",
       "      <td>0.000000</td>\n",
       "      <td>0.0</td>\n",
       "      <td>0.000000</td>\n",
       "      <td>0.000000</td>\n",
       "      <td>0.000000</td>\n",
       "      <td>0.0</td>\n",
       "    </tr>\n",
       "    <tr>\n",
       "      <th>50%</th>\n",
       "      <td>0.000000</td>\n",
       "      <td>1.000000</td>\n",
       "      <td>0.479167</td>\n",
       "      <td>0.472846</td>\n",
       "      <td>0.647500</td>\n",
       "      <td>0.186900</td>\n",
       "      <td>5.000000</td>\n",
       "      <td>1.000000</td>\n",
       "      <td>5.000000</td>\n",
       "      <td>1.000000</td>\n",
       "      <td>...</td>\n",
       "      <td>0.0</td>\n",
       "      <td>0.000000</td>\n",
       "      <td>0.000000</td>\n",
       "      <td>0.000000</td>\n",
       "      <td>0.000000</td>\n",
       "      <td>0.0</td>\n",
       "      <td>0.000000</td>\n",
       "      <td>1.000000</td>\n",
       "      <td>0.000000</td>\n",
       "      <td>0.0</td>\n",
       "    </tr>\n",
       "    <tr>\n",
       "      <th>75%</th>\n",
       "      <td>0.000000</td>\n",
       "      <td>1.000000</td>\n",
       "      <td>0.656667</td>\n",
       "      <td>0.612379</td>\n",
       "      <td>0.742083</td>\n",
       "      <td>0.235075</td>\n",
       "      <td>6.000000</td>\n",
       "      <td>1.000000</td>\n",
       "      <td>8.000000</td>\n",
       "      <td>2.000000</td>\n",
       "      <td>...</td>\n",
       "      <td>0.0</td>\n",
       "      <td>0.000000</td>\n",
       "      <td>1.000000</td>\n",
       "      <td>1.000000</td>\n",
       "      <td>0.000000</td>\n",
       "      <td>0.0</td>\n",
       "      <td>1.000000</td>\n",
       "      <td>1.000000</td>\n",
       "      <td>0.000000</td>\n",
       "      <td>0.0</td>\n",
       "    </tr>\n",
       "    <tr>\n",
       "      <th>max</th>\n",
       "      <td>1.000000</td>\n",
       "      <td>1.000000</td>\n",
       "      <td>0.849167</td>\n",
       "      <td>0.840896</td>\n",
       "      <td>0.972500</td>\n",
       "      <td>0.507463</td>\n",
       "      <td>9.000000</td>\n",
       "      <td>1.000000</td>\n",
       "      <td>10.000000</td>\n",
       "      <td>3.000000</td>\n",
       "      <td>...</td>\n",
       "      <td>0.0</td>\n",
       "      <td>1.000000</td>\n",
       "      <td>1.000000</td>\n",
       "      <td>1.000000</td>\n",
       "      <td>1.000000</td>\n",
       "      <td>0.0</td>\n",
       "      <td>1.000000</td>\n",
       "      <td>1.000000</td>\n",
       "      <td>1.000000</td>\n",
       "      <td>0.0</td>\n",
       "    </tr>\n",
       "  </tbody>\n",
       "</table>\n",
       "<p>8 rows × 30 columns</p>\n",
       "</div>"
      ],
      "text/plain": [
       "          holiday  workingday        temp   feel_temp         hum   windspeed  \\\n",
       "count  365.000000  365.000000  365.000000  365.000000  365.000000  365.000000   \n",
       "mean     0.027397    0.684932    0.486665    0.466835    0.643665    0.191403   \n",
       "std      0.163462    0.465181    0.189596    0.168836    0.148744    0.076890   \n",
       "min      0.000000    0.000000    0.059130    0.079070    0.000000    0.022392   \n",
       "25%      0.000000    0.000000    0.325000    0.321954    0.538333    0.135583   \n",
       "50%      0.000000    1.000000    0.479167    0.472846    0.647500    0.186900   \n",
       "75%      0.000000    1.000000    0.656667    0.612379    0.742083    0.235075   \n",
       "max      1.000000    1.000000    0.849167    0.840896    0.972500    0.507463   \n",
       "\n",
       "       promotion_level  promotion_type  promotion_level_external  \\\n",
       "count       365.000000      365.000000                365.000000   \n",
       "mean          4.520548        0.501370                  5.139726   \n",
       "std           1.896422        0.500684                  2.905978   \n",
       "min           0.000000        0.000000                  1.000000   \n",
       "25%           3.000000        0.000000                  3.000000   \n",
       "50%           5.000000        1.000000                  5.000000   \n",
       "75%           6.000000        1.000000                  8.000000   \n",
       "max           9.000000        1.000000                 10.000000   \n",
       "\n",
       "       promotion_type_external  ...  weekday_nan  season_autumn  \\\n",
       "count               365.000000  ...        365.0     365.000000   \n",
       "mean                  1.471233  ...          0.0       0.249315   \n",
       "std                   1.100634  ...          0.0       0.433210   \n",
       "min                   0.000000  ...          0.0       0.000000   \n",
       "25%                   1.000000  ...          0.0       0.000000   \n",
       "50%                   1.000000  ...          0.0       0.000000   \n",
       "75%                   2.000000  ...          0.0       0.000000   \n",
       "max                   3.000000  ...          0.0       1.000000   \n",
       "\n",
       "       season_spring  season_summer  season_winter  season_nan  weather_cloud  \\\n",
       "count     365.000000     365.000000     365.000000       365.0     365.000000   \n",
       "mean        0.252055       0.252055       0.246575         0.0       0.339726   \n",
       "std         0.434789       0.434789       0.431609         0.0       0.474266   \n",
       "min         0.000000       0.000000       0.000000         0.0       0.000000   \n",
       "25%         0.000000       0.000000       0.000000         0.0       0.000000   \n",
       "50%         0.000000       0.000000       0.000000         0.0       0.000000   \n",
       "75%         1.000000       1.000000       0.000000         0.0       1.000000   \n",
       "max         1.000000       1.000000       1.000000         0.0       1.000000   \n",
       "\n",
       "       weather_fair  weather_rain  weather_nan  \n",
       "count    365.000000    365.000000        365.0  \n",
       "mean       0.619178      0.041096          0.0  \n",
       "std        0.486255      0.198785          0.0  \n",
       "min        0.000000      0.000000          0.0  \n",
       "25%        0.000000      0.000000          0.0  \n",
       "50%        1.000000      0.000000          0.0  \n",
       "75%        1.000000      0.000000          0.0  \n",
       "max        1.000000      1.000000          0.0  \n",
       "\n",
       "[8 rows x 30 columns]"
      ]
     },
     "execution_count": 47,
     "metadata": {},
     "output_type": "execute_result"
    }
   ],
   "source": [
    "# Apply scaling if our data is spread across wide differences of range values.\n",
    "data.describe()"
   ]
  },
  {
   "cell_type": "code",
   "execution_count": 48,
   "metadata": {
    "colab": {},
    "colab_type": "code",
    "id": "Feyrb90p3qf8"
   },
   "outputs": [
    {
     "data": {
      "text/plain": [
       "pandas.core.frame.DataFrame"
      ]
     },
     "execution_count": 48,
     "metadata": {},
     "output_type": "execute_result"
    }
   ],
   "source": [
    "# print the type of X\n",
    "type(X)"
   ]
  },
  {
   "cell_type": "markdown",
   "metadata": {
    "colab_type": "text",
    "id": "Jtau8HV73t7Y"
   },
   "source": [
    "Note : <br>\n",
    "Type of X should be pandas dataframe.\n",
    "If not then convert X into pandas DataFrame object before proceeding further.\n"
   ]
  },
  {
   "cell_type": "code",
   "execution_count": 49,
   "metadata": {
    "colab": {},
    "colab_type": "code",
    "id": "V5II0AWy4AHK"
   },
   "outputs": [
    {
     "data": {
      "text/html": [
       "<div>\n",
       "<style scoped>\n",
       "    .dataframe tbody tr th:only-of-type {\n",
       "        vertical-align: middle;\n",
       "    }\n",
       "\n",
       "    .dataframe tbody tr th {\n",
       "        vertical-align: top;\n",
       "    }\n",
       "\n",
       "    .dataframe thead th {\n",
       "        text-align: right;\n",
       "    }\n",
       "</style>\n",
       "<table border=\"1\" class=\"dataframe\">\n",
       "  <thead>\n",
       "    <tr style=\"text-align: right;\">\n",
       "      <th></th>\n",
       "      <th>holiday</th>\n",
       "      <th>workingday</th>\n",
       "      <th>temp</th>\n",
       "      <th>feel_temp</th>\n",
       "      <th>hum</th>\n",
       "      <th>windspeed</th>\n",
       "      <th>promotion_level</th>\n",
       "      <th>promotion_type</th>\n",
       "      <th>promotion_level_external</th>\n",
       "      <th>promotion_type_external</th>\n",
       "      <th>...</th>\n",
       "      <th>weekday_nan</th>\n",
       "      <th>season_autumn</th>\n",
       "      <th>season_spring</th>\n",
       "      <th>season_summer</th>\n",
       "      <th>season_winter</th>\n",
       "      <th>season_nan</th>\n",
       "      <th>weather_cloud</th>\n",
       "      <th>weather_fair</th>\n",
       "      <th>weather_rain</th>\n",
       "      <th>weather_nan</th>\n",
       "    </tr>\n",
       "  </thead>\n",
       "  <tbody>\n",
       "    <tr>\n",
       "      <th>0</th>\n",
       "      <td>0</td>\n",
       "      <td>0</td>\n",
       "      <td>0.344167</td>\n",
       "      <td>0.363625</td>\n",
       "      <td>0.805833</td>\n",
       "      <td>0.160446</td>\n",
       "      <td>7</td>\n",
       "      <td>1</td>\n",
       "      <td>2</td>\n",
       "      <td>2</td>\n",
       "      <td>...</td>\n",
       "      <td>0</td>\n",
       "      <td>0</td>\n",
       "      <td>0</td>\n",
       "      <td>0</td>\n",
       "      <td>1</td>\n",
       "      <td>0</td>\n",
       "      <td>1</td>\n",
       "      <td>0</td>\n",
       "      <td>0</td>\n",
       "      <td>0</td>\n",
       "    </tr>\n",
       "    <tr>\n",
       "      <th>1</th>\n",
       "      <td>0</td>\n",
       "      <td>0</td>\n",
       "      <td>0.363478</td>\n",
       "      <td>0.353739</td>\n",
       "      <td>0.696087</td>\n",
       "      <td>0.248539</td>\n",
       "      <td>8</td>\n",
       "      <td>1</td>\n",
       "      <td>8</td>\n",
       "      <td>1</td>\n",
       "      <td>...</td>\n",
       "      <td>0</td>\n",
       "      <td>0</td>\n",
       "      <td>0</td>\n",
       "      <td>0</td>\n",
       "      <td>1</td>\n",
       "      <td>0</td>\n",
       "      <td>1</td>\n",
       "      <td>0</td>\n",
       "      <td>0</td>\n",
       "      <td>0</td>\n",
       "    </tr>\n",
       "    <tr>\n",
       "      <th>2</th>\n",
       "      <td>0</td>\n",
       "      <td>1</td>\n",
       "      <td>0.196364</td>\n",
       "      <td>0.189405</td>\n",
       "      <td>0.437273</td>\n",
       "      <td>0.248309</td>\n",
       "      <td>3</td>\n",
       "      <td>1</td>\n",
       "      <td>10</td>\n",
       "      <td>2</td>\n",
       "      <td>...</td>\n",
       "      <td>0</td>\n",
       "      <td>0</td>\n",
       "      <td>0</td>\n",
       "      <td>0</td>\n",
       "      <td>1</td>\n",
       "      <td>0</td>\n",
       "      <td>0</td>\n",
       "      <td>1</td>\n",
       "      <td>0</td>\n",
       "      <td>0</td>\n",
       "    </tr>\n",
       "    <tr>\n",
       "      <th>3</th>\n",
       "      <td>0</td>\n",
       "      <td>1</td>\n",
       "      <td>0.200000</td>\n",
       "      <td>0.212122</td>\n",
       "      <td>0.590435</td>\n",
       "      <td>0.160296</td>\n",
       "      <td>0</td>\n",
       "      <td>1</td>\n",
       "      <td>8</td>\n",
       "      <td>3</td>\n",
       "      <td>...</td>\n",
       "      <td>0</td>\n",
       "      <td>0</td>\n",
       "      <td>0</td>\n",
       "      <td>0</td>\n",
       "      <td>1</td>\n",
       "      <td>0</td>\n",
       "      <td>0</td>\n",
       "      <td>1</td>\n",
       "      <td>0</td>\n",
       "      <td>0</td>\n",
       "    </tr>\n",
       "    <tr>\n",
       "      <th>4</th>\n",
       "      <td>0</td>\n",
       "      <td>1</td>\n",
       "      <td>0.226957</td>\n",
       "      <td>0.229270</td>\n",
       "      <td>0.436957</td>\n",
       "      <td>0.186900</td>\n",
       "      <td>2</td>\n",
       "      <td>0</td>\n",
       "      <td>5</td>\n",
       "      <td>1</td>\n",
       "      <td>...</td>\n",
       "      <td>0</td>\n",
       "      <td>0</td>\n",
       "      <td>0</td>\n",
       "      <td>0</td>\n",
       "      <td>1</td>\n",
       "      <td>0</td>\n",
       "      <td>0</td>\n",
       "      <td>1</td>\n",
       "      <td>0</td>\n",
       "      <td>0</td>\n",
       "    </tr>\n",
       "  </tbody>\n",
       "</table>\n",
       "<p>5 rows × 28 columns</p>\n",
       "</div>"
      ],
      "text/plain": [
       "   holiday  workingday      temp  feel_temp       hum  windspeed  \\\n",
       "0        0           0  0.344167   0.363625  0.805833   0.160446   \n",
       "1        0           0  0.363478   0.353739  0.696087   0.248539   \n",
       "2        0           1  0.196364   0.189405  0.437273   0.248309   \n",
       "3        0           1  0.200000   0.212122  0.590435   0.160296   \n",
       "4        0           1  0.226957   0.229270  0.436957   0.186900   \n",
       "\n",
       "   promotion_level  promotion_type  promotion_level_external  \\\n",
       "0                7               1                         2   \n",
       "1                8               1                         8   \n",
       "2                3               1                        10   \n",
       "3                0               1                         8   \n",
       "4                2               0                         5   \n",
       "\n",
       "   promotion_type_external  ...  weekday_nan  season_autumn  season_spring  \\\n",
       "0                        2  ...            0              0              0   \n",
       "1                        1  ...            0              0              0   \n",
       "2                        2  ...            0              0              0   \n",
       "3                        3  ...            0              0              0   \n",
       "4                        1  ...            0              0              0   \n",
       "\n",
       "   season_summer  season_winter  season_nan  weather_cloud  weather_fair  \\\n",
       "0              0              1           0              1             0   \n",
       "1              0              1           0              1             0   \n",
       "2              0              1           0              0             1   \n",
       "3              0              1           0              0             1   \n",
       "4              0              1           0              0             1   \n",
       "\n",
       "   weather_rain  weather_nan  \n",
       "0             0            0  \n",
       "1             0            0  \n",
       "2             0            0  \n",
       "3             0            0  \n",
       "4             0            0  \n",
       "\n",
       "[5 rows x 28 columns]"
      ]
     },
     "execution_count": 49,
     "metadata": {},
     "output_type": "execute_result"
    }
   ],
   "source": [
    "# convert X into pandas Dataframe\n",
    "# in the parameters specify columns = train_columns.\n",
    "\n",
    "X = pd.DataFrame(X, columns = train_columns)\n",
    "X.head()"
   ]
  },
  {
   "cell_type": "code",
   "execution_count": 50,
   "metadata": {
    "colab": {},
    "colab_type": "code",
    "id": "Ad4MfGe1mPDk"
   },
   "outputs": [],
   "source": [
    "# split the dataset into X_train, X_test, y_train, y_test\n",
    "# play around with test sizes.\n",
    "\n",
    "test_size = 0.2\n",
    "X_train, X_test, y_train, y_test = train_test_split(X, y, test_size=0.2, random_state=55)"
   ]
  },
  {
   "cell_type": "code",
   "execution_count": 51,
   "metadata": {
    "colab": {},
    "colab_type": "code",
    "id": "6czlxW2tnQqP"
   },
   "outputs": [
    {
     "name": "stdout",
     "output_type": "stream",
     "text": [
      "(292, 28)\n",
      "(73, 28)\n",
      "(292,)\n",
      "(73,)\n"
     ]
    }
   ],
   "source": [
    "# print the shapes\n",
    "print(X_train.shape)\n",
    "print(X_test.shape)\n",
    "print(y_train.shape)\n",
    "print(y_test.shape)"
   ]
  },
  {
   "cell_type": "code",
   "execution_count": 52,
   "metadata": {
    "colab": {},
    "colab_type": "code",
    "id": "w-lp9O74nUm7"
   },
   "outputs": [
    {
     "data": {
      "text/plain": [
       "LinearRegression()"
      ]
     },
     "execution_count": 52,
     "metadata": {},
     "output_type": "execute_result"
    }
   ],
   "source": [
    "# build the Linear Regression model.\n",
    "\n",
    "model = LinearRegression()\n",
    "\n",
    "# fit the model on the training data\n",
    "model.fit(X_train, y_train)"
   ]
  },
  {
   "cell_type": "code",
   "execution_count": 53,
   "metadata": {
    "colab": {},
    "colab_type": "code",
    "id": "Ga_f-66JoVri"
   },
   "outputs": [
    {
     "name": "stdout",
     "output_type": "stream",
     "text": [
      "On Training set :  0.987538329361278\n"
     ]
    }
   ],
   "source": [
    "# print the score on training set\n",
    "y_pred_train = model.predict(X_train)\n",
    "print(\"On Training set : \", r2_score(y_train, y_pred_train))"
   ]
  },
  {
   "cell_type": "code",
   "execution_count": 54,
   "metadata": {
    "colab": {},
    "colab_type": "code",
    "id": "IKmlrtpDoilu"
   },
   "outputs": [
    {
     "name": "stdout",
     "output_type": "stream",
     "text": [
      "On testing set :  0.986009362461774\n"
     ]
    }
   ],
   "source": [
    "# print the score on the test set\n",
    "y_pred_test = model.predict(X_test)\n",
    "print(\"On testing set : \", r2_score(y_test, y_pred_test))"
   ]
  },
  {
   "cell_type": "markdown",
   "metadata": {
    "colab_type": "text",
    "id": "cYyTP91_pB-u"
   },
   "source": [
    "Do not edit the code given below. Observe the distribution of weights. \n",
    "Which feature has the maximum coefficient ? <br>\n",
    "Keep this figure as a base reference for visualizing the effects of l1-norm and l2-norm later in this notebook."
   ]
  },
  {
   "cell_type": "code",
   "execution_count": 55,
   "metadata": {
    "colab": {},
    "colab_type": "code",
    "id": "Ck8Vx1bWozcf"
   },
   "outputs": [],
   "source": [
    "# custom summary function to plot the coefficients / weightage of the features.\n",
    "def custom_summary(model, column_names, title):\n",
    "    '''Show a summary of the trained linear regression model'''\n",
    "\n",
    "    # Plot the coeffients as bars\n",
    "    fig = plt.figure(figsize=(8,len(column_names)/3))\n",
    "    fig.suptitle(title, fontsize=16)\n",
    "    rects = plt.barh(column_names, model.coef_,color=\"lightblue\")\n",
    "\n",
    "    # Annotate the bars with the coefficient values\n",
    "    for rect in rects:\n",
    "        width = round(rect.get_width(),4)\n",
    "        plt.gca().annotate('  {}  '.format(width),\n",
    "                    xy=(0, rect.get_y()),\n",
    "                    xytext=(0,2),  \n",
    "                    textcoords=\"offset points\",  \n",
    "                    ha='left' if width<0 else 'right', va='bottom')        \n",
    "    plt.show()"
   ]
  },
  {
   "cell_type": "code",
   "execution_count": 56,
   "metadata": {
    "colab": {},
    "colab_type": "code",
    "id": "QuyEBDrYotzb"
   },
   "outputs": [
    {
     "data": {
      "image/png": "[encoded data removed]",
      "text/plain": [
       "<Figure size 576x672 with 1 Axes>"
      ]
     },
     "metadata": {
      "needs_background": "light"
     },
     "output_type": "display_data"
    }
   ],
   "source": [
    "# coefficients plot\n",
    "# let's call the above custom function.\n",
    "\n",
    "custom_summary(model, train_columns, \"Linear Regression coefficients.\")"
   ]
  },
  {
   "cell_type": "code",
   "execution_count": 57,
   "metadata": {
    "colab": {},
    "colab_type": "code",
    "id": "E77vWyd7plQ2"
   },
   "outputs": [
    {
     "name": "stdout",
     "output_type": "stream",
     "text": [
      "LinearRegression\n",
      "kFoldCV:\n",
      "Fold R2 scores: [0.96397593 0.96622757 0.80447553 0.98589551 0.99041678 0.98815215\n",
      " 0.99430849 0.98098706 0.99883166 0.96729251]\n",
      "Mean R2 score: 0.964056319393278\n",
      "Std R2 score: 0.05444705937594259\n",
      "Generalizability on training set :  0.964056319393278  +/-  0.05444705937594259\n"
     ]
    }
   ],
   "source": [
    "# evaluate the model with k = 10 Fold Cross validation\n",
    "\n",
    "folds = KFold(n_splits = 10, shuffle = True, random_state = 100)\n",
    "results = cross_val_score(model, X_test, y_test, scoring = 'r2', cv = folds)\n",
    "\n",
    "print(type(model).__name__)\n",
    "print(\"kFoldCV:\")\n",
    "print(\"Fold R2 scores:\", results)\n",
    "print(\"Mean R2 score:\", results.mean())\n",
    "print(\"Std R2 score:\", results.std())\n",
    "print(\"Generalizability on training set : \", results.mean(), \" +/- \", results.std())"
   ]
  },
  {
   "cell_type": "markdown",
   "metadata": {
    "colab_type": "text",
    "id": "xNVstf3MRWTS"
   },
   "source": [
    "Feature Selection using Variance Thresholding"
   ]
  },
  {
   "cell_type": "code",
   "execution_count": 58,
   "metadata": {
    "colab": {},
    "colab_type": "code",
    "id": "3fWmra-LRSvk"
   },
   "outputs": [
    {
     "name": "stdout",
     "output_type": "stream",
     "text": [
      "Original shape of X_train :  (292, 28)\n"
     ]
    }
   ],
   "source": [
    "print(\"Original shape of X_train : \", X_train.shape)"
   ]
  },
  {
   "cell_type": "code",
   "execution_count": 59,
   "metadata": {
    "colab": {},
    "colab_type": "code",
    "id": "ZdfMwVybRl9o"
   },
   "outputs": [
    {
     "data": {
      "text/plain": [
       "holiday                     2.671986e-02\n",
       "workingday                  2.163932e-01\n",
       "temp                        3.594647e-02\n",
       "feel_temp                   2.850545e-02\n",
       "hum                         2.212477e-02\n",
       "windspeed                   5.912089e-03\n",
       "promotion_level             3.596417e+00\n",
       "promotion_type              2.506849e-01\n",
       "promotion_level_external    8.444709e+00\n",
       "promotion_type_external     1.211395e+00\n",
       "registered                  1.123834e+06\n",
       "weekday_0.0                 1.225049e-01\n",
       "weekday_1.0                 1.225049e-01\n",
       "weekday_2.0                 1.225049e-01\n",
       "weekday_3.0                 1.225049e-01\n",
       "weekday_4.0                 1.225049e-01\n",
       "weekday_5.0                 1.225049e-01\n",
       "weekday_6.0                 1.244618e-01\n",
       "weekday_nan                 0.000000e+00\n",
       "season_autumn               1.876712e-01\n",
       "season_spring               1.890411e-01\n",
       "season_summer               1.890411e-01\n",
       "season_winter               1.862863e-01\n",
       "season_nan                  0.000000e+00\n",
       "weather_cloud               2.249285e-01\n",
       "weather_fair                2.364444e-01\n",
       "weather_rain                3.951528e-02\n",
       "weather_nan                 0.000000e+00\n",
       "dtype: float64"
      ]
     },
     "execution_count": 59,
     "metadata": {},
     "output_type": "execute_result"
    }
   ],
   "source": [
    "# check the variance of X.\n",
    "# Note the type(X) should be a pandas DataFrame as stated earlier.\n",
    "\n",
    "X.var()"
   ]
  },
  {
   "cell_type": "markdown",
   "metadata": {
    "colab_type": "text",
    "id": "kk36hVk_Rv6l"
   },
   "source": [
    "Remove low variance features using Variance Threshold. \n",
    "\n",
    "Note : If the variance is less, it implies the values of that particular feature spans limited range of values."
   ]
  },
  {
   "cell_type": "code",
   "execution_count": 60,
   "metadata": {
    "colab": {},
    "colab_type": "code",
    "id": "3RkbbmcuRtkJ"
   },
   "outputs": [
    {
     "data": {
      "text/plain": [
       "VarianceThreshold(threshold=0.01)"
      ]
     },
     "execution_count": 60,
     "metadata": {},
     "output_type": "execute_result"
    }
   ],
   "source": [
    "# play around with the threshold values\n",
    "\n",
    "sel = VarianceThreshold(threshold = (0.01))\n",
    "sel.fit(X_train)"
   ]
  },
  {
   "cell_type": "code",
   "execution_count": 61,
   "metadata": {
    "colab": {},
    "colab_type": "code",
    "id": "Bk525DOySWJp"
   },
   "outputs": [
    {
     "name": "stdout",
     "output_type": "stream",
     "text": [
      "Selected features :  ['holiday', 'workingday', 'temp', 'feel_temp', 'hum', 'promotion_level', 'promotion_type', 'promotion_level_external', 'promotion_type_external', 'registered', 'weekday_0.0', 'weekday_1.0', 'weekday_2.0', 'weekday_3.0', 'weekday_4.0', 'weekday_5.0', 'weekday_6.0', 'season_autumn', 'season_spring', 'season_summer', 'season_winter', 'weather_cloud', 'weather_fair', 'weather_rain']\n",
      "Removed features :  ['windspeed', 'weekday_nan', 'season_nan', 'weather_nan']\n"
     ]
    }
   ],
   "source": [
    "# do not edit.\n",
    "\n",
    "selected_features = list(X_train.columns[sel.get_support()])\n",
    "print(\"Selected features : \", selected_features)\n",
    "print(\"Removed features : \", list(X_train.columns[~sel.get_support()]))"
   ]
  },
  {
   "cell_type": "code",
   "execution_count": 62,
   "metadata": {
    "colab": {},
    "colab_type": "code",
    "id": "Ci3BFPnE5ex4"
   },
   "outputs": [],
   "source": [
    "# Delete the removed features from the train_columns list.\n",
    "#for i in removed_features:\n",
    "  #train_columns.remove(i)"
   ]
  },
  {
   "cell_type": "code",
   "execution_count": 63,
   "metadata": {
    "colab": {},
    "colab_type": "code",
    "id": "k1AQhlAhSXI5"
   },
   "outputs": [],
   "source": [
    "#transform / remove the low variance features\n",
    "\n",
    "X_train = sel.transform(X_train)\n",
    "X_test = sel.transform(X_test)"
   ]
  },
  {
   "cell_type": "markdown",
   "metadata": {
    "colab_type": "text",
    "id": "UH8mZBs3S-i3"
   },
   "source": [
    "## Lasso Regression : L1 - norm"
   ]
  },
  {
   "cell_type": "code",
   "execution_count": 64,
   "metadata": {
    "colab": {},
    "colab_type": "code",
    "id": "0XTVvk4gS98-"
   },
   "outputs": [
    {
     "name": "stdout",
     "output_type": "stream",
     "text": [
      "On train set :  0.9862465918525257\n"
     ]
    }
   ],
   "source": [
    "from sklearn.linear_model import Lasso\n",
    "\n",
    "X_train, X_test, y_train, y_test = train_test_split(X, y, test_size = 0.2, random_state = 100)\n",
    "\n",
    "# hyperparamater alpha : controls the degree of penaliation.\n",
    "# play around with alpha values.\n",
    "alpha = 1.0\n",
    "\n",
    "#create the model\n",
    "model_lasso = Lasso(alpha = alpha)\n",
    "\n",
    "#fit the model on training data\n",
    "model_lasso.fit(X_train, y_train)\n",
    "\n",
    "#calculate the score on training data\n",
    "y_pred_train = model_lasso.predict(X_train)\n",
    "print(\"On train set : \", r2_score(y_train, y_pred_train))"
   ]
  },
  {
   "cell_type": "code",
   "execution_count": 65,
   "metadata": {
    "colab": {},
    "colab_type": "code",
    "id": "PD4NpuxYTWoV"
   },
   "outputs": [
    {
     "name": "stdout",
     "output_type": "stream",
     "text": [
      "On test set :  0.9886501300741962\n"
     ]
    }
   ],
   "source": [
    "#evaluate the model on testing data\n",
    "y_pred_test = model_lasso.predict(X_test)\n",
    "print(\"On test set : \", r2_score(y_test, y_pred_test))"
   ]
  },
  {
   "cell_type": "code",
   "execution_count": 66,
   "metadata": {
    "colab": {},
    "colab_type": "code",
    "id": "bN7w1V5hT2Dp"
   },
   "outputs": [
    {
     "data": {
      "image/png": "[encoded data removed]",
      "text/plain": [
       "<Figure size 576x672 with 1 Axes>"
      ]
     },
     "metadata": {
      "needs_background": "light"
     },
     "output_type": "display_data"
    }
   ],
   "source": [
    "# visualize the coefficients.\n",
    "# compare the results with the plot obtained earlier.\n",
    "custom_summary(model_lasso, train_columns, \"Lasso Regression Coefficients.\")"
   ]
  },
  {
   "cell_type": "markdown",
   "metadata": {
    "colab_type": "text",
    "id": "dsjziyZzUS8P"
   },
   "source": [
    "We can see that Lasso regression has automatically done a lot of feature selection. Some columns might have zero coefficients. It has been effectively removed. <br> \n",
    "The model is much more interpretable than the baseline linear regression model.\n",
    "<br>\n",
    "Hence, Lasso regression has embedded Feature Selection."
   ]
  },
  {
   "cell_type": "markdown",
   "metadata": {
    "colab_type": "text",
    "id": "O9IlW2V2UfD0"
   },
   "source": [
    "# Ridge Regression : L2 - norm"
   ]
  },
  {
   "cell_type": "code",
   "execution_count": 73,
   "metadata": {
    "colab": {},
    "colab_type": "code",
    "id": "j6PRlLONUckx"
   },
   "outputs": [
    {
     "name": "stdout",
     "output_type": "stream",
     "text": [
      "On train set :  0.985944349653417\n"
     ]
    }
   ],
   "source": [
    "from sklearn.linear_model import Ridge\n",
    "\n",
    "# hyperparamater alpha : controls the degree of penaliation.\n",
    "# play around with alpha values.\n",
    "alpha = 1.0\n",
    "\n",
    "#create the model\n",
    "model_ridge = Ridge(alpha = 3.5)\n",
    "\n",
    "#fit the model on training data\n",
    "model_ridge.fit(X_train, y_train)\n",
    "\n",
    "#calculate the score on training data\n",
    "y_pred_train = model_ridge.predict(X_train)\n",
    "print(\"On train set : \", r2_score(y_train, y_pred_train))\n"
   ]
  },
  {
   "cell_type": "code",
   "execution_count": 74,
   "metadata": {
    "colab": {},
    "colab_type": "code",
    "id": "jzukav_PVTG2"
   },
   "outputs": [
    {
     "name": "stdout",
     "output_type": "stream",
     "text": [
      "On test set :  0.9881710278643278\n"
     ]
    }
   ],
   "source": [
    "#evaluate the model on testing data\n",
    "y_pred_test = model_ridge.predict(X_test)\n",
    "print(\"On test set : \", r2_score(y_test, y_pred_test))"
   ]
  },
  {
   "cell_type": "code",
   "execution_count": 75,
   "metadata": {
    "colab": {},
    "colab_type": "code",
    "id": "c39ZBnmvVYSA"
   },
   "outputs": [
    {
     "data": {
      "image/png": "[encoded data removed]",
      "text/plain": [
       "<Figure size 576x672 with 1 Axes>"
      ]
     },
     "metadata": {
      "needs_background": "light"
     },
     "output_type": "display_data"
    }
   ],
   "source": [
    "# visualize the coefficients.\n",
    "# compare the results with the plot obtained earlier.\n",
    "\n",
    "custom_summary(model_ridge, train_columns, \"Ridge Regression Coefficients.\")"
   ]
  },
  {
   "cell_type": "markdown",
   "metadata": {
    "colab_type": "text",
    "id": "TqLF3812VefE"
   },
   "source": [
    "Ridge regression doesn't drive smaller coefficients to 0 hence it doesn't possess internal feature selection."
   ]
  },
  {
   "cell_type": "markdown",
   "metadata": {
    "colab_type": "text",
    "id": "DUCm0xOc6inT"
   },
   "source": [
    "Points to Ponder ! [Optional]"
   ]
  },
  {
   "cell_type": "markdown",
   "metadata": {
    "colab_type": "text",
    "id": "l9FHk5sw6nLb"
   },
   "source": [
    "Did you notice the highest dependency on the feature \"registered\" if you haven't removed it till now ?\n",
    "\n",
    "Since our target is \"cnt\" which is the simple combination of \"registered\" and \"casual\".\n",
    "\n",
    "we have removed \"casual\", but the model was smart enough to predict the target \"cnt\" simply from one feature \"registered\" itself. \n",
    "\n",
    "This is the classic example of Data Leakage. So the aim here is not to make 99 percent accurate predictions, the aim is to take into account the factors for making predictions.\n",
    "\n",
    "So, to get a detailed report, we should avoid data leakage thereby removing both the features \"registered\" and \"casual\"."
   ]
  },
  {
   "cell_type": "code",
   "execution_count": null,
   "metadata": {
    "colab": {},
    "colab_type": "code",
    "id": "4euMcAFR6kLG"
   },
   "outputs": [],
   "source": []
  }
 ],
 "metadata": {
  "colab": {
   "collapsed_sections": [],
   "name": "task1_LinearRegression.ipynb",
   "provenance": []
  },
  "kernelspec": {
   "display_name": "Python 3",
   "language": "python",
   "name": "python3"
  },
  "language_info": {
   "codemirror_mode": {
    "name": "ipython",
    "version": 3
   },
   "file_extension": ".py",
   "mimetype": "text/x-python",
   "name": "python",
   "nbconvert_exporter": "python",
   "pygments_lexer": "ipython3",
   "version": "3.8.5"
  }
 },
 "nbformat": 4,
 "nbformat_minor": 1
}
