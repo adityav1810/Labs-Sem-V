{
 "cells": [
  {
   "cell_type": "markdown",
   "metadata": {},
   "source": [
    "### Task Video :\n",
    "\n",
    "#### Dataset Link:\n",
    "Dataset can be found at \" /data/videos/ \" in the respective challenge's repo.\n",
    "\n",
    "#### Description:\n",
    "Video series is just a sequence of images arranged in a specific order. Images of that sequence are called frames. Therefore, in video intelligence tasks, we take advantage of the temporal nature of video and semantic content in consecutive frames.\n",
    "\n",
    "#### Objective:\n",
    "How to read video data and convert it into useable format for machine learning\n",
    "\n",
    "#### Tasks:\n",
    "- Load dataset from provided link. Videos are in “.mp4” format.\n",
    "- Extract frames from video at fps=10 (opencv’s VideoCapture Class)\n",
    "- Plot 4th frame of 'VID_2.mp4' (matplotlib or Pillow library)\n",
    "- Print dimensions of any single frame of 'VID_6.mp4'\n",
    "- Print all pixel values of 10th frame of 'VID_14.mp4'\n",
    "- Perform sanity check for each video whether all frames have same dimensions or not\n",
    "\n",
    "#### Further fun (will not be evaluated):\n",
    "_Prerequisites: CNN and image processing_\n",
    "\n",
    "- We will perform video classification for fun on this sample dataset. You can download labels here: _(Link to be added soon or self-annotation for small dataset is also possible)_\n",
    "- Train image classifier on all frames extracted at fps=10 from all videos.\n",
    "- The naive approach to do video classification would be to classify each frame and save results in sequential format, and that is it !! Obviously there are much better ways of doing video classification taking advantage of the temporal nature of data.\n",
    "\n",
    "#### Helpful Links:\n",
    "- Detailed description of how to process video frames: https://www.youtube.com/watch?v=tQetgoLy70s\n",
    "- Nice tutorial on video classification: https://www.analyticsvidhya.com/blog/2018/09/deep-learning-video-classification-python/\n",
    "- Used .avi format but the idea is same: https://www.analyticsvidhya.com/blog/2019/09/step-by-step-deep-learning-tutorial-video-classification-python/\n",
    "- Line-by-Line explanation of video classification code: https://www.pyimagesearch.com/2019/07/15/video-classification-with-keras-and-deep-learning/"
   ]
  },
  {
   "cell_type": "code",
   "execution_count": 2,
   "metadata": {},
   "outputs": [],
   "source": [
    "import cv2 # For handling videos\n",
    "import matplotlib.pyplot as plt # For plotting images, you can use pillow library as well\n",
    "import numpy as np # For mathematical operations "
   ]
  },
  {
   "cell_type": "code",
   "execution_count": 8,
   "metadata": {},
   "outputs": [
    {
     "name": "stdout",
     "output_type": "stream",
     "text": [
      "Frame rate: 29.98102466793169\n"
     ]
    }
   ],
   "source": [
    "file = 'data/videos/VID_2.mp4'\n",
    "vid = cv2.VideoCapture(file)\n",
    "frameRate = vid.get(5)\n",
    "print(\"Frame rate:\", frameRate)"
   ]
  },
  {
   "cell_type": "code",
   "execution_count": 9,
   "metadata": {},
   "outputs": [
    {
     "name": "stdout",
     "output_type": "stream",
     "text": [
      "Total frames: 158.0\n",
      "Length of video: 5.27 seconds\n"
     ]
    }
   ],
   "source": [
    "total_frames = vid.get(7)\n",
    "print(\"Total frames:\", total_frames)\n",
    "print(\"Length of video: %.2f seconds\" % (total_frames/frameRate))"
   ]
  },
  {
   "cell_type": "code",
   "execution_count": 10,
   "metadata": {},
   "outputs": [],
   "source": []
  }
 ],
 "metadata": {
  "kernelspec": {
   "display_name": "Python 3",
   "language": "python",
   "name": "python3"
  },
  "language_info": {
   "codemirror_mode": {
    "name": "ipython",
    "version": 3
   },
   "file_extension": ".py",
   "mimetype": "text/x-python",
   "name": "python",
   "nbconvert_exporter": "python",
   "pygments_lexer": "ipython3",
   "version": "3.8.5"
  },
  "toc": {
   "base_numbering": 1,
   "nav_menu": {},
   "number_sections": true,
   "sideBar": true,
   "skip_h1_title": false,
   "title_cell": "Table of Contents",
   "title_sidebar": "Contents",
   "toc_cell": false,
   "toc_position": {},
   "toc_section_display": true,
   "toc_window_display": false
  }
 },
 "nbformat": 4,
 "nbformat_minor": 4
}
