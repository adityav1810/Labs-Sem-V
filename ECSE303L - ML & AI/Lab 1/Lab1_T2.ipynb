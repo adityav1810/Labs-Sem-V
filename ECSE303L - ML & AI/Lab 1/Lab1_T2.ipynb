{
 "cells": [
  {
   "cell_type": "markdown",
   "metadata": {},
   "source": [
    "### Task Image:\n",
    "\n",
    "#### Dataset Link:\n",
    "RGB Dataset can be found at \" /data/rgb-images/ \" in the respective challenge's repo.<br>\n",
    "DICOM Dataset can be found at \" /data/dicom-images/ \" in the respective challenge's repo.\n",
    "\n",
    "#### Description:\n",
    "Images are needed to be preprocessed before feeding them into computer vision algorithms. Comman forms of image data are: 2D, RGB, dicom format, satellite images and 4D images. 2D images are grayscale images, RGB images are 3-channeled images representing color value of pixel, DICOM format is the standard for the communication and management of medical imaging information and related data, and 4D images (example - brain MRI scans) are slices of 3D images stacked on top of each other.\n",
    "\n",
    "#### Objective:\n",
    "How to load and process various formats of image for machine learning (Check out helpful links section to get hints)\n",
    "\n",
    "#### Tasks:\n",
    "- Read the rgb images provided and store their numerical representation in numpy array (matplotlib or PIL)\n",
    "- Plot rgb image '9.jpeg'\n",
    "- Print dimensions of image '12.jpeg'\n",
    "- Convert any 5 images to grayscale and plot them\n",
    "\n",
    "- Read the dicom images provided (dicom.read_file function)\n",
    "- Print numerical representation of image '0009.DCM' (dicom_img.pixel_array attribute)\n",
    "- Plot any dicom image (matplotlib.pyplot.imshow function)\n",
    "\n",
    "#### Further fun (will not be evaluated):\n",
    "- You already got familiar with complex unstructured data like rgb and dicom images, let's apply those skills to 2D images as well. Download the famous MNIST Dataset from https://www.kaggle.com/c/digit-recognizer/data . Read those 2D images and explore the dataset. Try out edge detection using sobel filter without using any libraries other than numpy.\n",
    "- DICOM format contains much more information than just pixel values. Explore the data further.\n",
    "\n",
    "#### Helpful Links:\n",
    "- Awesome tutorial on image processing with numpy: http://www.degeneratestate.org/posts/2016/Oct/23/image-processing-with-numpy/\n",
    "- Understand pydicom data structure and images - https://www.kaggle.com/avirdee/understanding-dicoms"
   ]
  },
  {
   "cell_type": "markdown",
   "metadata": {},
   "source": []
  },
  {
   "cell_type": "code",
   "execution_count": null,
   "metadata": {},
   "outputs": [],
   "source": []
  },
  {
   "cell_type": "code",
   "execution_count": null,
   "metadata": {},
   "outputs": [],
   "source": [
    "# Import the required libraries\n",
    "# Use terminal commands like \"pip install numpy\" to install packages\n",
    "import os\n",
    "import numpy as np\n",
    "import pandas as pd\n",
    "import pydicom as dicom\n",
    "import matplotlib.pyplot as plt\n",
    "# import PIL if and when required"
   ]
  },
  {
   "cell_type": "code",
   "execution_count": null,
   "metadata": {},
   "outputs": [],
   "source": [
    "from matplotlib import image\n",
    "import glob"
   ]
  },
  {
   "cell_type": "code",
   "execution_count": null,
   "metadata": {},
   "outputs": [],
   "source": [
    "images=[image.imread(file) for file in glob.glob('data/rgb_images/*.jpeg')]\n",
    "images"
   ]
  },
  {
   "cell_type": "code",
   "execution_count": null,
   "metadata": {},
   "outputs": [],
   "source": [
    "jpeg_9 = image.imread('data/rgb_images/9.jpeg')\n",
    "plt.imshow(jpeg_9)"
   ]
  },
  {
   "cell_type": "code",
   "execution_count": null,
   "metadata": {},
   "outputs": [],
   "source": [
    "jpeg_12 = image.imread('data/rgb_images/12.jpeg')\n",
    "jpeg_12.shape"
   ]
  },
  {
   "cell_type": "code",
   "execution_count": null,
   "metadata": {},
   "outputs": [],
   "source": [
    "import cv2\n",
    "for i in [file for file in glob.glob('data/rgb_images/*.jpeg')][:5]:\n",
    "    src = cv2.imread(i)\n",
    "    gray = cv2.cvtColor(src, cv2.COLOR_BGR2GRAY ) \n",
    "    plt.imshow(gray,cmap='gray')\n",
    "    plt.show()"
   ]
  },
  {
   "cell_type": "code",
   "execution_count": null,
   "metadata": {},
   "outputs": [],
   "source": [
    "from matplotlib import image\n",
    "filename= 'data/dicom_images/0009.dcm'\n",
    "\n",
    "ds = dicom.dcmread(filename)\n",
    "dic_img= ds.pixel_array.mean(axis=0)\n",
    "\n",
    "print(dic_img)"
   ]
  },
  {
   "cell_type": "code",
   "execution_count": null,
   "metadata": {},
   "outputs": [],
   "source": [
    "plt.imshow(dic_img)"
   ]
  }
 ],
 "metadata": {
  "kernelspec": {
   "display_name": "Python 3",
   "language": "python",
   "name": "python3"
  },
  "language_info": {
   "codemirror_mode": {
    "name": "ipython",
    "version": 3
   },
   "file_extension": ".py",
   "mimetype": "text/x-python",
   "name": "python",
   "nbconvert_exporter": "python",
   "pygments_lexer": "ipython3",
   "version": "3.8.5"
  },
  "toc": {
   "base_numbering": 1,
   "nav_menu": {},
   "number_sections": true,
   "sideBar": true,
   "skip_h1_title": false,
   "title_cell": "Table of Contents",
   "title_sidebar": "Contents",
   "toc_cell": false,
   "toc_position": {},
   "toc_section_display": true,
   "toc_window_display": false
  }
 },
 "nbformat": 4,
 "nbformat_minor": 4
}
