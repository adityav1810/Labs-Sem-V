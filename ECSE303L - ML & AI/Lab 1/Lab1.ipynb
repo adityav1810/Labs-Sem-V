{
  "nbformat": 4,
  "nbformat_minor": 0,
  "metadata": {
    "colab": {
      "name": "Untitled0.ipynb",
      "provenance": [],
      "collapsed_sections": []
    },
    "kernelspec": {
      "name": "python3",
      "display_name": "Python 3"
    }
  },
  "cells": [
    {
      "cell_type": "code",
      "metadata": {
        "id": "8V5xwiqAXuHV",
        "colab_type": "code",
        "colab": {
          "base_uri": "https://localhost:8080/",
          "height": 34
        },
        "outputId": "55cb5dbc-57f2-4e7c-cb5b-04d9e541b656"
      },
      "source": [
        "print('Init')"
      ],
      "execution_count": 1,
      "outputs": [
        {
          "output_type": "stream",
          "text": [
            "Init\n"
          ],
          "name": "stdout"
        }
      ]
    }
  ]
}