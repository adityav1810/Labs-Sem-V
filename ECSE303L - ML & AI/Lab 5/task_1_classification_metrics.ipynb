{
 "cells": [
  {
   "cell_type": "markdown",
   "metadata": {},
   "source": [
    "## Classification metrics\n",
    "\n",
    "Choosing right evaluation metrics for the problem is one of the most important aspect of machine learning. Choice of metrics allows us to compare performance of different models and helps in model selection.\n",
    "\n",
    "In this task, we will explore following metrics:\n",
    "- confusion matrix\n",
    "- accuracy\n",
    "- precision\n",
    "- recall\n",
    "- f1 score\n",
    "\n",
    "#### Dataset\n",
    "The training dataset is available at \"data/ozone_levels_train.csv\" in the respective challenge' repo.<br>\n",
    "The testing dataset is available at \"data/ozone_levels_test.csv\" in the respective challenge' repo.<br>\n",
    "\n",
    "The dataset is __modified version__ of the dataset 'ozone level' on provided by UCI Machine Learning repository.\n",
    "\n",
    "Original dataset: https://archive.ics.uci.edu/ml/datasets/Ozone+Level+Detection\n",
    "\n",
    "#### Objective\n",
    "To learn about classification metrics and compare logistic regression and decision tree on the same dataset\n",
    "\n",
    "#### Tasks\n",
    "- define X(input) and Y(output)\n",
    "- train the decision tree model \n",
    "- train the logistic model\n",
    "- construct a confusion matrix\n",
    "- calculate the classification accurace\n",
    "- calculate the Precision\n",
    "- calculate the Recall\n",
    "- calculate the F1 score\n",
    "- calculate Area Under ROC Curve\n",
    "\n",
    "#### Further fun\n",
    "- Calculate precission and recall\n",
    "- find the area under the curve for Roc metrics\n",
    "- impliment below metrics using inbuilt librarires\n",
    "        confusion matrix\n",
    "        accuracy\n",
    "        precision\n",
    "        recall\n",
    "        f1 score\n",
    "\n",
    "\n",
    "#### Helpful links\n",
    "- Classification metrics with google developers: https://developers.google.com/machine-learning/crash-course/classification/true-false-positive-negative\n",
    "- classification metrics: https://www.kdnuggets.com/2020/04/performance-evaluation-metrics-classification.html\n",
    "- pd.get_dummies() and One Hot Encoding: https://queirozf.com/entries/one-hot-encoding-a-feature-on-a-pandas-dataframe-an-example\n",
    "- Differences between Logistic Regression and a Decision Tree: https://www.geeksforgeeks.org/ml-logistic-regression-v-s-decision-tree-classification/\n",
    "- Decision Tree Classifier by Sklearn: https://scikit-learn.org/stable/modules/generated/sklearn.tree.DecisionTreeClassifier.html\n",
    "- Understanding classification metrics like Precision, Recall, F-Scores and Confusion matrices: https://nillsf.com/index.php/2020/05/23/confusion-matrix-accuracy-recall-precision-false-positive-rate-and-f-scores-explained/\n",
    "- Understanding the ROC Curve: https://developers.google.com/machine-learning/crash-course/classification/roc-and-auc\n",
    "- Use slack for doubts: https://join.slack.com/t/deepconnectai/shared_invite/zt-givlfnf6-~cn3SQ43k0BGDrG9_YOn4g"
   ]
  },
  {
   "cell_type": "code",
   "execution_count": 1,
   "metadata": {},
   "outputs": [],
   "source": [
    "import pandas as pd\n",
    "import numpy as np\n",
    "import matplotlib.pyplot as plt\n",
    "import seaborn as sns\n",
    "from sklearn.linear_model import LogisticRegression\n",
    "from sklearn.tree import DecisionTreeClassifier\n",
    "# Uncomment below 2 lines to ignore warnings\n",
    "# import warnings\n",
    "# warnings.filterwarnings('ignore')"
   ]
  },
  {
   "cell_type": "code",
   "execution_count": 2,
   "metadata": {},
   "outputs": [],
   "source": [
    "# Load the train and test data\n",
    "train = pd.read_csv('data/ozone_levels_train.csv')\n",
    "test  = pd.read_csv('data/ozone_levels_test.csv')"
   ]
  },
  {
   "cell_type": "code",
   "execution_count": 3,
   "metadata": {},
   "outputs": [
    {
     "data": {
      "text/html": [
       "<div>\n",
       "<style scoped>\n",
       "    .dataframe tbody tr th:only-of-type {\n",
       "        vertical-align: middle;\n",
       "    }\n",
       "\n",
       "    .dataframe tbody tr th {\n",
       "        vertical-align: top;\n",
       "    }\n",
       "\n",
       "    .dataframe thead th {\n",
       "        text-align: right;\n",
       "    }\n",
       "</style>\n",
       "<table border=\"1\" class=\"dataframe\">\n",
       "  <thead>\n",
       "    <tr style=\"text-align: right;\">\n",
       "      <th></th>\n",
       "      <th>F_0</th>\n",
       "      <th>F_1</th>\n",
       "      <th>F_2</th>\n",
       "      <th>F_3</th>\n",
       "      <th>F_4</th>\n",
       "      <th>F_5</th>\n",
       "      <th>F_6</th>\n",
       "      <th>F_7</th>\n",
       "      <th>F_8</th>\n",
       "      <th>F_9</th>\n",
       "      <th>...</th>\n",
       "      <th>F_63</th>\n",
       "      <th>F_64</th>\n",
       "      <th>F_65</th>\n",
       "      <th>F_66</th>\n",
       "      <th>F_67</th>\n",
       "      <th>F_68</th>\n",
       "      <th>F_69</th>\n",
       "      <th>F_70</th>\n",
       "      <th>F_71</th>\n",
       "      <th>class</th>\n",
       "    </tr>\n",
       "  </thead>\n",
       "  <tbody>\n",
       "    <tr>\n",
       "      <th>count</th>\n",
       "      <td>1775.000000</td>\n",
       "      <td>1775.000000</td>\n",
       "      <td>1775.000000</td>\n",
       "      <td>1775.000000</td>\n",
       "      <td>1775.000000</td>\n",
       "      <td>1775.000000</td>\n",
       "      <td>1775.000000</td>\n",
       "      <td>1775.000000</td>\n",
       "      <td>1775.000000</td>\n",
       "      <td>1775.000000</td>\n",
       "      <td>...</td>\n",
       "      <td>1775.000000</td>\n",
       "      <td>1775.000000</td>\n",
       "      <td>1775.000000</td>\n",
       "      <td>1775.000000</td>\n",
       "      <td>1775.000000</td>\n",
       "      <td>1775.000000</td>\n",
       "      <td>1775.000000</td>\n",
       "      <td>1775.000000</td>\n",
       "      <td>1775.000000</td>\n",
       "      <td>1775.000000</td>\n",
       "    </tr>\n",
       "    <tr>\n",
       "      <th>mean</th>\n",
       "      <td>1.659582</td>\n",
       "      <td>1.604478</td>\n",
       "      <td>1.562795</td>\n",
       "      <td>1.536850</td>\n",
       "      <td>1.546754</td>\n",
       "      <td>1.565504</td>\n",
       "      <td>1.658954</td>\n",
       "      <td>2.060432</td>\n",
       "      <td>2.546532</td>\n",
       "      <td>2.853759</td>\n",
       "      <td>...</td>\n",
       "      <td>0.301490</td>\n",
       "      <td>9.996660</td>\n",
       "      <td>0.767693</td>\n",
       "      <td>5818.118749</td>\n",
       "      <td>10.228275</td>\n",
       "      <td>37.193733</td>\n",
       "      <td>10164.328252</td>\n",
       "      <td>0.326615</td>\n",
       "      <td>0.400109</td>\n",
       "      <td>0.029296</td>\n",
       "    </tr>\n",
       "    <tr>\n",
       "      <th>std</th>\n",
       "      <td>1.207315</td>\n",
       "      <td>1.215479</td>\n",
       "      <td>1.182878</td>\n",
       "      <td>1.144698</td>\n",
       "      <td>1.149555</td>\n",
       "      <td>1.121924</td>\n",
       "      <td>1.106174</td>\n",
       "      <td>1.102371</td>\n",
       "      <td>1.119705</td>\n",
       "      <td>1.148799</td>\n",
       "      <td>...</td>\n",
       "      <td>0.240462</td>\n",
       "      <td>9.085121</td>\n",
       "      <td>6.945460</td>\n",
       "      <td>76.968772</td>\n",
       "      <td>20.246423</td>\n",
       "      <td>11.053242</td>\n",
       "      <td>51.959469</td>\n",
       "      <td>35.038533</td>\n",
       "      <td>1.447307</td>\n",
       "      <td>0.168682</td>\n",
       "    </tr>\n",
       "    <tr>\n",
       "      <th>min</th>\n",
       "      <td>0.000000</td>\n",
       "      <td>0.000000</td>\n",
       "      <td>0.000000</td>\n",
       "      <td>0.000000</td>\n",
       "      <td>0.000000</td>\n",
       "      <td>0.000000</td>\n",
       "      <td>0.000000</td>\n",
       "      <td>0.000000</td>\n",
       "      <td>0.100000</td>\n",
       "      <td>0.100000</td>\n",
       "      <td>...</td>\n",
       "      <td>0.010000</td>\n",
       "      <td>-14.920000</td>\n",
       "      <td>-22.480000</td>\n",
       "      <td>5545.000000</td>\n",
       "      <td>-56.700000</td>\n",
       "      <td>-10.100000</td>\n",
       "      <td>9975.000000</td>\n",
       "      <td>-130.000000</td>\n",
       "      <td>0.000000</td>\n",
       "      <td>0.000000</td>\n",
       "    </tr>\n",
       "    <tr>\n",
       "      <th>25%</th>\n",
       "      <td>0.800000</td>\n",
       "      <td>0.700000</td>\n",
       "      <td>0.700000</td>\n",
       "      <td>0.700000</td>\n",
       "      <td>0.700000</td>\n",
       "      <td>0.700000</td>\n",
       "      <td>0.900000</td>\n",
       "      <td>1.300000</td>\n",
       "      <td>1.800000</td>\n",
       "      <td>2.100000</td>\n",
       "      <td>...</td>\n",
       "      <td>0.100000</td>\n",
       "      <td>3.535000</td>\n",
       "      <td>-3.300000</td>\n",
       "      <td>5770.000000</td>\n",
       "      <td>-2.850000</td>\n",
       "      <td>32.825000</td>\n",
       "      <td>10130.000000</td>\n",
       "      <td>-20.000000</td>\n",
       "      <td>0.000000</td>\n",
       "      <td>0.000000</td>\n",
       "    </tr>\n",
       "    <tr>\n",
       "      <th>50%</th>\n",
       "      <td>1.600000</td>\n",
       "      <td>1.500000</td>\n",
       "      <td>1.400000</td>\n",
       "      <td>1.400000</td>\n",
       "      <td>1.400000</td>\n",
       "      <td>1.500000</td>\n",
       "      <td>1.600000</td>\n",
       "      <td>2.048331</td>\n",
       "      <td>2.540472</td>\n",
       "      <td>2.848599</td>\n",
       "      <td>...</td>\n",
       "      <td>0.250000</td>\n",
       "      <td>9.867313</td>\n",
       "      <td>0.831892</td>\n",
       "      <td>5825.000000</td>\n",
       "      <td>12.900000</td>\n",
       "      <td>40.350000</td>\n",
       "      <td>10160.000000</td>\n",
       "      <td>-0.130416</td>\n",
       "      <td>0.000000</td>\n",
       "      <td>0.000000</td>\n",
       "    </tr>\n",
       "    <tr>\n",
       "      <th>75%</th>\n",
       "      <td>2.200000</td>\n",
       "      <td>2.100000</td>\n",
       "      <td>2.100000</td>\n",
       "      <td>2.100000</td>\n",
       "      <td>2.100000</td>\n",
       "      <td>2.000000</td>\n",
       "      <td>2.100000</td>\n",
       "      <td>2.600000</td>\n",
       "      <td>3.200000</td>\n",
       "      <td>3.500000</td>\n",
       "      <td>...</td>\n",
       "      <td>0.460000</td>\n",
       "      <td>16.135000</td>\n",
       "      <td>4.380000</td>\n",
       "      <td>5880.000000</td>\n",
       "      <td>27.525000</td>\n",
       "      <td>44.850000</td>\n",
       "      <td>10190.000000</td>\n",
       "      <td>15.000000</td>\n",
       "      <td>0.050000</td>\n",
       "      <td>0.000000</td>\n",
       "    </tr>\n",
       "    <tr>\n",
       "      <th>max</th>\n",
       "      <td>7.500000</td>\n",
       "      <td>7.700000</td>\n",
       "      <td>7.100000</td>\n",
       "      <td>7.300000</td>\n",
       "      <td>7.200000</td>\n",
       "      <td>7.400000</td>\n",
       "      <td>7.400000</td>\n",
       "      <td>7.500000</td>\n",
       "      <td>8.400000</td>\n",
       "      <td>8.500000</td>\n",
       "      <td>...</td>\n",
       "      <td>1.000000</td>\n",
       "      <td>42.360000</td>\n",
       "      <td>30.420000</td>\n",
       "      <td>5965.000000</td>\n",
       "      <td>42.050000</td>\n",
       "      <td>59.150000</td>\n",
       "      <td>10350.000000</td>\n",
       "      <td>140.000000</td>\n",
       "      <td>20.650000</td>\n",
       "      <td>1.000000</td>\n",
       "    </tr>\n",
       "  </tbody>\n",
       "</table>\n",
       "<p>8 rows × 73 columns</p>\n",
       "</div>"
      ],
      "text/plain": [
       "               F_0          F_1          F_2          F_3          F_4  \\\n",
       "count  1775.000000  1775.000000  1775.000000  1775.000000  1775.000000   \n",
       "mean      1.659582     1.604478     1.562795     1.536850     1.546754   \n",
       "std       1.207315     1.215479     1.182878     1.144698     1.149555   \n",
       "min       0.000000     0.000000     0.000000     0.000000     0.000000   \n",
       "25%       0.800000     0.700000     0.700000     0.700000     0.700000   \n",
       "50%       1.600000     1.500000     1.400000     1.400000     1.400000   \n",
       "75%       2.200000     2.100000     2.100000     2.100000     2.100000   \n",
       "max       7.500000     7.700000     7.100000     7.300000     7.200000   \n",
       "\n",
       "               F_5          F_6          F_7          F_8          F_9  ...  \\\n",
       "count  1775.000000  1775.000000  1775.000000  1775.000000  1775.000000  ...   \n",
       "mean      1.565504     1.658954     2.060432     2.546532     2.853759  ...   \n",
       "std       1.121924     1.106174     1.102371     1.119705     1.148799  ...   \n",
       "min       0.000000     0.000000     0.000000     0.100000     0.100000  ...   \n",
       "25%       0.700000     0.900000     1.300000     1.800000     2.100000  ...   \n",
       "50%       1.500000     1.600000     2.048331     2.540472     2.848599  ...   \n",
       "75%       2.000000     2.100000     2.600000     3.200000     3.500000  ...   \n",
       "max       7.400000     7.400000     7.500000     8.400000     8.500000  ...   \n",
       "\n",
       "              F_63         F_64         F_65         F_66         F_67  \\\n",
       "count  1775.000000  1775.000000  1775.000000  1775.000000  1775.000000   \n",
       "mean      0.301490     9.996660     0.767693  5818.118749    10.228275   \n",
       "std       0.240462     9.085121     6.945460    76.968772    20.246423   \n",
       "min       0.010000   -14.920000   -22.480000  5545.000000   -56.700000   \n",
       "25%       0.100000     3.535000    -3.300000  5770.000000    -2.850000   \n",
       "50%       0.250000     9.867313     0.831892  5825.000000    12.900000   \n",
       "75%       0.460000    16.135000     4.380000  5880.000000    27.525000   \n",
       "max       1.000000    42.360000    30.420000  5965.000000    42.050000   \n",
       "\n",
       "              F_68          F_69         F_70         F_71        class  \n",
       "count  1775.000000   1775.000000  1775.000000  1775.000000  1775.000000  \n",
       "mean     37.193733  10164.328252     0.326615     0.400109     0.029296  \n",
       "std      11.053242     51.959469    35.038533     1.447307     0.168682  \n",
       "min     -10.100000   9975.000000  -130.000000     0.000000     0.000000  \n",
       "25%      32.825000  10130.000000   -20.000000     0.000000     0.000000  \n",
       "50%      40.350000  10160.000000    -0.130416     0.000000     0.000000  \n",
       "75%      44.850000  10190.000000    15.000000     0.050000     0.000000  \n",
       "max      59.150000  10350.000000   140.000000    20.650000     1.000000  \n",
       "\n",
       "[8 rows x 73 columns]"
      ]
     },
     "execution_count": 3,
     "metadata": {},
     "output_type": "execute_result"
    }
   ],
   "source": [
    "# Explore train dataset\n",
    "train.describe()"
   ]
  },
  {
   "cell_type": "code",
   "execution_count": 10,
   "metadata": {},
   "outputs": [
    {
     "data": {
      "text/html": [
       "<div>\n",
       "<style scoped>\n",
       "    .dataframe tbody tr th:only-of-type {\n",
       "        vertical-align: middle;\n",
       "    }\n",
       "\n",
       "    .dataframe tbody tr th {\n",
       "        vertical-align: top;\n",
       "    }\n",
       "\n",
       "    .dataframe thead th {\n",
       "        text-align: right;\n",
       "    }\n",
       "</style>\n",
       "<table border=\"1\" class=\"dataframe\">\n",
       "  <thead>\n",
       "    <tr style=\"text-align: right;\">\n",
       "      <th></th>\n",
       "      <th>F_0</th>\n",
       "      <th>F_1</th>\n",
       "      <th>F_2</th>\n",
       "      <th>F_3</th>\n",
       "      <th>F_4</th>\n",
       "      <th>F_5</th>\n",
       "      <th>F_6</th>\n",
       "      <th>F_7</th>\n",
       "      <th>F_8</th>\n",
       "      <th>F_9</th>\n",
       "      <th>...</th>\n",
       "      <th>F_63</th>\n",
       "      <th>F_64</th>\n",
       "      <th>F_65</th>\n",
       "      <th>F_66</th>\n",
       "      <th>F_67</th>\n",
       "      <th>F_68</th>\n",
       "      <th>F_69</th>\n",
       "      <th>F_70</th>\n",
       "      <th>F_71</th>\n",
       "      <th>class</th>\n",
       "    </tr>\n",
       "  </thead>\n",
       "  <tbody>\n",
       "    <tr>\n",
       "      <th>0</th>\n",
       "      <td>2.500000</td>\n",
       "      <td>3.500000</td>\n",
       "      <td>4.40000</td>\n",
       "      <td>4.600000</td>\n",
       "      <td>4.400000</td>\n",
       "      <td>3.500000</td>\n",
       "      <td>4.200000</td>\n",
       "      <td>4.500000</td>\n",
       "      <td>4.200000</td>\n",
       "      <td>4.600000</td>\n",
       "      <td>...</td>\n",
       "      <td>0.07</td>\n",
       "      <td>26.290000</td>\n",
       "      <td>-2.370000</td>\n",
       "      <td>5705.0</td>\n",
       "      <td>-19.40</td>\n",
       "      <td>23.40</td>\n",
       "      <td>10315.0</td>\n",
       "      <td>-0.130416</td>\n",
       "      <td>0.00</td>\n",
       "      <td>0.0</td>\n",
       "    </tr>\n",
       "    <tr>\n",
       "      <th>1</th>\n",
       "      <td>1.200000</td>\n",
       "      <td>0.700000</td>\n",
       "      <td>0.30000</td>\n",
       "      <td>0.100000</td>\n",
       "      <td>0.300000</td>\n",
       "      <td>0.400000</td>\n",
       "      <td>0.600000</td>\n",
       "      <td>1.100000</td>\n",
       "      <td>1.900000</td>\n",
       "      <td>2.400000</td>\n",
       "      <td>...</td>\n",
       "      <td>0.24</td>\n",
       "      <td>15.800000</td>\n",
       "      <td>2.100000</td>\n",
       "      <td>5710.0</td>\n",
       "      <td>-17.50</td>\n",
       "      <td>19.00</td>\n",
       "      <td>10210.0</td>\n",
       "      <td>15.000000</td>\n",
       "      <td>0.00</td>\n",
       "      <td>0.0</td>\n",
       "    </tr>\n",
       "    <tr>\n",
       "      <th>2</th>\n",
       "      <td>0.100000</td>\n",
       "      <td>0.400000</td>\n",
       "      <td>0.60000</td>\n",
       "      <td>0.400000</td>\n",
       "      <td>1.000000</td>\n",
       "      <td>1.700000</td>\n",
       "      <td>0.700000</td>\n",
       "      <td>1.300000</td>\n",
       "      <td>2.300000</td>\n",
       "      <td>2.400000</td>\n",
       "      <td>...</td>\n",
       "      <td>0.12</td>\n",
       "      <td>31.640000</td>\n",
       "      <td>-5.240000</td>\n",
       "      <td>5745.0</td>\n",
       "      <td>-16.90</td>\n",
       "      <td>25.90</td>\n",
       "      <td>10175.0</td>\n",
       "      <td>85.000000</td>\n",
       "      <td>0.00</td>\n",
       "      <td>0.0</td>\n",
       "    </tr>\n",
       "    <tr>\n",
       "      <th>3</th>\n",
       "      <td>0.600000</td>\n",
       "      <td>0.900000</td>\n",
       "      <td>1.00000</td>\n",
       "      <td>0.600000</td>\n",
       "      <td>0.700000</td>\n",
       "      <td>0.700000</td>\n",
       "      <td>0.800000</td>\n",
       "      <td>1.400000</td>\n",
       "      <td>2.600000</td>\n",
       "      <td>2.600000</td>\n",
       "      <td>...</td>\n",
       "      <td>0.19</td>\n",
       "      <td>1.220000</td>\n",
       "      <td>-0.280000</td>\n",
       "      <td>5835.0</td>\n",
       "      <td>-9.55</td>\n",
       "      <td>42.15</td>\n",
       "      <td>10215.0</td>\n",
       "      <td>5.000000</td>\n",
       "      <td>0.00</td>\n",
       "      <td>0.0</td>\n",
       "    </tr>\n",
       "    <tr>\n",
       "      <th>4</th>\n",
       "      <td>0.100000</td>\n",
       "      <td>0.400000</td>\n",
       "      <td>0.30000</td>\n",
       "      <td>0.100000</td>\n",
       "      <td>0.100000</td>\n",
       "      <td>0.000000</td>\n",
       "      <td>0.900000</td>\n",
       "      <td>1.900000</td>\n",
       "      <td>2.000000</td>\n",
       "      <td>2.000000</td>\n",
       "      <td>...</td>\n",
       "      <td>0.87</td>\n",
       "      <td>1.650000</td>\n",
       "      <td>1.510000</td>\n",
       "      <td>5835.0</td>\n",
       "      <td>32.95</td>\n",
       "      <td>47.30</td>\n",
       "      <td>10170.0</td>\n",
       "      <td>15.000000</td>\n",
       "      <td>0.97</td>\n",
       "      <td>0.0</td>\n",
       "    </tr>\n",
       "    <tr>\n",
       "      <th>5</th>\n",
       "      <td>1.800000</td>\n",
       "      <td>3.000000</td>\n",
       "      <td>2.80000</td>\n",
       "      <td>1.400000</td>\n",
       "      <td>0.600000</td>\n",
       "      <td>0.300000</td>\n",
       "      <td>1.400000</td>\n",
       "      <td>2.600000</td>\n",
       "      <td>2.700000</td>\n",
       "      <td>3.200000</td>\n",
       "      <td>...</td>\n",
       "      <td>0.23</td>\n",
       "      <td>16.440000</td>\n",
       "      <td>18.490000</td>\n",
       "      <td>5780.0</td>\n",
       "      <td>22.15</td>\n",
       "      <td>49.65</td>\n",
       "      <td>10055.0</td>\n",
       "      <td>40.000000</td>\n",
       "      <td>0.00</td>\n",
       "      <td>0.0</td>\n",
       "    </tr>\n",
       "    <tr>\n",
       "      <th>6</th>\n",
       "      <td>1.641261</td>\n",
       "      <td>1.587433</td>\n",
       "      <td>1.54661</td>\n",
       "      <td>1.527273</td>\n",
       "      <td>1.523094</td>\n",
       "      <td>1.542914</td>\n",
       "      <td>1.638218</td>\n",
       "      <td>2.048331</td>\n",
       "      <td>2.540472</td>\n",
       "      <td>2.848599</td>\n",
       "      <td>...</td>\n",
       "      <td>0.28</td>\n",
       "      <td>13.600000</td>\n",
       "      <td>-3.260000</td>\n",
       "      <td>5735.0</td>\n",
       "      <td>-12.30</td>\n",
       "      <td>22.80</td>\n",
       "      <td>10200.0</td>\n",
       "      <td>-30.000000</td>\n",
       "      <td>0.00</td>\n",
       "      <td>0.0</td>\n",
       "    </tr>\n",
       "    <tr>\n",
       "      <th>7</th>\n",
       "      <td>0.900000</td>\n",
       "      <td>1.300000</td>\n",
       "      <td>2.00000</td>\n",
       "      <td>1.800000</td>\n",
       "      <td>1.600000</td>\n",
       "      <td>1.900000</td>\n",
       "      <td>1.800000</td>\n",
       "      <td>2.500000</td>\n",
       "      <td>3.200000</td>\n",
       "      <td>4.100000</td>\n",
       "      <td>...</td>\n",
       "      <td>0.25</td>\n",
       "      <td>9.867313</td>\n",
       "      <td>0.831892</td>\n",
       "      <td>5705.0</td>\n",
       "      <td>-6.40</td>\n",
       "      <td>18.50</td>\n",
       "      <td>10165.0</td>\n",
       "      <td>125.000000</td>\n",
       "      <td>0.00</td>\n",
       "      <td>0.0</td>\n",
       "    </tr>\n",
       "    <tr>\n",
       "      <th>8</th>\n",
       "      <td>1.641261</td>\n",
       "      <td>1.587433</td>\n",
       "      <td>1.54661</td>\n",
       "      <td>1.527273</td>\n",
       "      <td>1.523094</td>\n",
       "      <td>1.542914</td>\n",
       "      <td>1.638218</td>\n",
       "      <td>2.048331</td>\n",
       "      <td>2.540472</td>\n",
       "      <td>2.848599</td>\n",
       "      <td>...</td>\n",
       "      <td>0.07</td>\n",
       "      <td>0.180000</td>\n",
       "      <td>6.780000</td>\n",
       "      <td>5895.0</td>\n",
       "      <td>24.85</td>\n",
       "      <td>39.85</td>\n",
       "      <td>10155.0</td>\n",
       "      <td>5.000000</td>\n",
       "      <td>0.58</td>\n",
       "      <td>0.0</td>\n",
       "    </tr>\n",
       "    <tr>\n",
       "      <th>9</th>\n",
       "      <td>2.500000</td>\n",
       "      <td>2.400000</td>\n",
       "      <td>2.10000</td>\n",
       "      <td>2.300000</td>\n",
       "      <td>2.200000</td>\n",
       "      <td>2.000000</td>\n",
       "      <td>1.600000</td>\n",
       "      <td>2.600000</td>\n",
       "      <td>3.600000</td>\n",
       "      <td>4.500000</td>\n",
       "      <td>...</td>\n",
       "      <td>0.26</td>\n",
       "      <td>11.330000</td>\n",
       "      <td>-13.350000</td>\n",
       "      <td>5545.0</td>\n",
       "      <td>12.30</td>\n",
       "      <td>44.60</td>\n",
       "      <td>10180.0</td>\n",
       "      <td>-10.000000</td>\n",
       "      <td>0.00</td>\n",
       "      <td>0.0</td>\n",
       "    </tr>\n",
       "  </tbody>\n",
       "</table>\n",
       "<p>10 rows × 73 columns</p>\n",
       "</div>"
      ],
      "text/plain": [
       "        F_0       F_1      F_2       F_3       F_4       F_5       F_6  \\\n",
       "0  2.500000  3.500000  4.40000  4.600000  4.400000  3.500000  4.200000   \n",
       "1  1.200000  0.700000  0.30000  0.100000  0.300000  0.400000  0.600000   \n",
       "2  0.100000  0.400000  0.60000  0.400000  1.000000  1.700000  0.700000   \n",
       "3  0.600000  0.900000  1.00000  0.600000  0.700000  0.700000  0.800000   \n",
       "4  0.100000  0.400000  0.30000  0.100000  0.100000  0.000000  0.900000   \n",
       "5  1.800000  3.000000  2.80000  1.400000  0.600000  0.300000  1.400000   \n",
       "6  1.641261  1.587433  1.54661  1.527273  1.523094  1.542914  1.638218   \n",
       "7  0.900000  1.300000  2.00000  1.800000  1.600000  1.900000  1.800000   \n",
       "8  1.641261  1.587433  1.54661  1.527273  1.523094  1.542914  1.638218   \n",
       "9  2.500000  2.400000  2.10000  2.300000  2.200000  2.000000  1.600000   \n",
       "\n",
       "        F_7       F_8       F_9  ...  F_63       F_64       F_65    F_66  \\\n",
       "0  4.500000  4.200000  4.600000  ...  0.07  26.290000  -2.370000  5705.0   \n",
       "1  1.100000  1.900000  2.400000  ...  0.24  15.800000   2.100000  5710.0   \n",
       "2  1.300000  2.300000  2.400000  ...  0.12  31.640000  -5.240000  5745.0   \n",
       "3  1.400000  2.600000  2.600000  ...  0.19   1.220000  -0.280000  5835.0   \n",
       "4  1.900000  2.000000  2.000000  ...  0.87   1.650000   1.510000  5835.0   \n",
       "5  2.600000  2.700000  3.200000  ...  0.23  16.440000  18.490000  5780.0   \n",
       "6  2.048331  2.540472  2.848599  ...  0.28  13.600000  -3.260000  5735.0   \n",
       "7  2.500000  3.200000  4.100000  ...  0.25   9.867313   0.831892  5705.0   \n",
       "8  2.048331  2.540472  2.848599  ...  0.07   0.180000   6.780000  5895.0   \n",
       "9  2.600000  3.600000  4.500000  ...  0.26  11.330000 -13.350000  5545.0   \n",
       "\n",
       "    F_67   F_68     F_69        F_70  F_71  class  \n",
       "0 -19.40  23.40  10315.0   -0.130416  0.00    0.0  \n",
       "1 -17.50  19.00  10210.0   15.000000  0.00    0.0  \n",
       "2 -16.90  25.90  10175.0   85.000000  0.00    0.0  \n",
       "3  -9.55  42.15  10215.0    5.000000  0.00    0.0  \n",
       "4  32.95  47.30  10170.0   15.000000  0.97    0.0  \n",
       "5  22.15  49.65  10055.0   40.000000  0.00    0.0  \n",
       "6 -12.30  22.80  10200.0  -30.000000  0.00    0.0  \n",
       "7  -6.40  18.50  10165.0  125.000000  0.00    0.0  \n",
       "8  24.85  39.85  10155.0    5.000000  0.58    0.0  \n",
       "9  12.30  44.60  10180.0  -10.000000  0.00    0.0  \n",
       "\n",
       "[10 rows x 73 columns]"
      ]
     },
     "execution_count": 10,
     "metadata": {},
     "output_type": "execute_result"
    }
   ],
   "source": [
    "train.head(10)"
   ]
  },
  {
   "cell_type": "code",
   "execution_count": 22,
   "metadata": {},
   "outputs": [],
   "source": [
    "# Define X and y\n",
    "X_train = train.drop('class', axis = 1).values\n",
    "X_test  = test.drop('class', axis = 1).values\n",
    "y_train = train['class']\n",
    "y_test  = test['class']"
   ]
  },
  {
   "cell_type": "code",
   "execution_count": 26,
   "metadata": {},
   "outputs": [
    {
     "name": "stdout",
     "output_type": "stream",
     "text": [
      "\n",
      "      X_train shape : (1775, 72)\n",
      "      X_test shape : (761, 72)\n",
      "      y_train shape : (1775,)\n",
      "      y_test shape : (761,)\n",
      "            \n",
      "\n"
     ]
    }
   ],
   "source": [
    "# Print shape of X_train, X_test, y_train, y_test\n",
    "print(f'''\n",
    "      X_train shape : {X_train.shape}\n",
    "      X_test shape : {X_test.shape}\n",
    "      y_train shape : {y_train.shape}\n",
    "      y_test shape : {y_test.shape}\n",
    "            \n",
    "''')"
   ]
  },
  {
   "cell_type": "code",
   "execution_count": 31,
   "metadata": {},
   "outputs": [],
   "source": [
    "# Initialize the models\n",
    "# Classifier 1 - Logistic regression\n",
    "clf1 = LogisticRegression(max_iter=10000)\n",
    "# Classifier 2 - Decision tree\n",
    "clf2 = DecisionTreeClassifier()"
   ]
  },
  {
   "cell_type": "code",
   "execution_count": 32,
   "metadata": {},
   "outputs": [
    {
     "data": {
      "text/plain": [
       "DecisionTreeClassifier()"
      ]
     },
     "execution_count": 32,
     "metadata": {},
     "output_type": "execute_result"
    }
   ],
   "source": [
    "# Train both the models on training dataset\n",
    "clf1.fit(X_train, y_train)\n",
    "clf2.fit(X_train, y_train)"
   ]
  },
  {
   "cell_type": "code",
   "execution_count": 40,
   "metadata": {},
   "outputs": [
    {
     "data": {
      "text/plain": [
       "(0.961892247043364, 0.938239159001314)"
      ]
     },
     "execution_count": 40,
     "metadata": {},
     "output_type": "execute_result"
    }
   ],
   "source": [
    "# Predict on testing data\n",
    "y_pred_lr = clf1.predict(X_test)\n",
    "y_pred_dt = clf2.predict(X_test)\n",
    "sum(y_pred_lr ==  y_test)/ len(y_test) , sum(y_pred_dt ==  y_test)/ len(y_test)  "
   ]
  },
  {
   "cell_type": "markdown",
   "metadata": {},
   "source": [
    "### Primary building blocks of classification metrics\n",
    "\n",
    "A __TRUE POSITIVE (TP)__ is an outcome where the model correctly predicts the positive class.\n",
    "\n",
    "A __TRUE NEGATIVE (TN)__ is an outcome where the model correctly predicts the negative class.\n",
    "\n",
    "A __FALSE POSITIVE (FP)__ is an outcome where the model incorrectly predicts the positive class.\n",
    "\n",
    "a __FALSE NEGATIVE (FN)__ is an outcome where the model incorrectly predicts the negative class."
   ]
  },
  {
   "cell_type": "code",
   "execution_count": 47,
   "metadata": {},
   "outputs": [],
   "source": [
    "# Compute primary metrics for logisitc regression\n",
    "# NOTE: All metrics are to be calculated on test dataset\n",
    "# True Positive\n",
    "lr_true_positive = sum([1 for i in range(len(y_test)) if y_test[i] == 1 and y_pred_lr[i] == 1])\n",
    "# True Negative\n",
    "lr_true_negative = sum([1 for i in range(len(y_test)) if y_test[i] == 0 and y_pred_lr[i] == 0])\n",
    "# False Positive\n",
    "lr_false_positive = sum([1 for i in range(len(y_test)) if y_test[i] == 0 and y_pred_lr[i] == 1])\n",
    "# False Negative\n",
    "lr_false_negative = sum([1 for i in range(len(y_test)) if y_test[i] == 1 and y_pred_lr[i] == 0])"
   ]
  },
  {
   "cell_type": "code",
   "execution_count": 48,
   "metadata": {},
   "outputs": [],
   "source": [
    "# Compute primary metrics for decision tree\n",
    "# True Positive\n",
    "dt_true_positive = sum([1 for i in range(len(y_test)) if y_test[i] == 1 and y_pred_dt[i] == 1])\n",
    "# True Negative\n",
    "dt_true_negative = sum([1 for i in range(len(y_test)) if y_test[i] == 0 and y_pred_dt[i] == 0])\n",
    "# False Positive\n",
    "dt_false_positive = sum([1 for i in range(len(y_test)) if y_test[i] == 0 and y_pred_dt[i] == 1])\n",
    "# False Negative\n",
    "dt_false_negative = sum([1 for i in range(len(y_test)) if y_test[i] == 1 and y_pred_dt[i] == 0])"
   ]
  },
  {
   "cell_type": "markdown",
   "metadata": {},
   "source": [
    "### Confusion matrix\n",
    "A confusion matrix is visualization technique to summarize the basic performance of a classification algorithm.\n",
    "\n",
    "![Confusion matrix](https://static.packt-cdn.com/products/9781838555078/graphics/C13314_06_05.jpg \"Confusion matric diagram\")"
   ]
  },
  {
   "cell_type": "code",
   "execution_count": 49,
   "metadata": {},
   "outputs": [
    {
     "data": {
      "image/png": "[encoded data removed]",
      "text/plain": [
       "<Figure size 1800x576 with 4 Axes>"
      ]
     },
     "metadata": {
      "needs_background": "light"
     },
     "output_type": "display_data"
    }
   ],
   "source": [
    "# Plot confusion matrix, DO NOT EDIT THE CELL\n",
    "fig, axes = plt.subplots(nrows=1, ncols=2, figsize=(25,8))\n",
    "\n",
    "plt.title(\"Confusion matrix for logistic regression\")\n",
    "sns.heatmap(np.array([[lr_true_negative, lr_false_positive],[lr_false_negative, lr_true_positive]]), annot=True, cmap=plt.cm.Blues, fmt='g', ax=axes[0])\n",
    "plt.title(\"Confusion matrix for decision tree\")\n",
    "sns.heatmap(np.array([[dt_true_negative, dt_false_positive],[dt_false_negative, dt_true_positive]]), annot=True, cmap=plt.cm.Blues, fmt='g', ax=axes[1])\n",
    "\n",
    "plt.show()"
   ]
  },
  {
   "cell_type": "markdown",
   "metadata": {},
   "source": [
    "### Accuracy \n",
    "Classification accuracy is simply the rate of correct classifications\n",
    "$$Accuracy = \\frac{Number \\, of \\, correct \\, predictions}{Total \\, number \\, of \\, predictions}$$\n",
    "<br>\n",
    "$$Accuracy = \\frac{TP + TN}{TP + TN + FP + FN}$$"
   ]
  },
  {
   "cell_type": "code",
   "execution_count": 50,
   "metadata": {},
   "outputs": [],
   "source": [
    "# Classification accuracy for logistic regression\n",
    "lr_accuracy = (lr_true_negative+lr_true_positive)/(lr_false_negative+lr_false_positive+lr_true_negative+lr_true_positive)\n",
    "# Classification accuracy for decision tree\n",
    "dt_accuracy = (dt_true_negative+dt_true_positive)/(dt_false_negative+dt_false_positive+dt_true_negative+dt_true_positive)"
   ]
  },
  {
   "cell_type": "code",
   "execution_count": 51,
   "metadata": {},
   "outputs": [
    {
     "name": "stdout",
     "output_type": "stream",
     "text": [
      "Classificaton accuracy: LR =  0.961892247043364\n",
      "Classificaton accuracy: DT =  0.938239159001314\n"
     ]
    }
   ],
   "source": [
    "print(\"Classificaton accuracy: LR = \" , lr_accuracy)\n",
    "print(\"Classificaton accuracy: DT = \" , dt_accuracy)"
   ]
  },
  {
   "cell_type": "markdown",
   "metadata": {},
   "source": [
    "### Precision\n",
    "What proportion of positive identifications was actually correct?\n",
    "$$Precision = \\frac{TP}{TP+FP}$$"
   ]
  },
  {
   "cell_type": "code",
   "execution_count": 52,
   "metadata": {},
   "outputs": [],
   "source": [
    "# Precision for logistic regression\n",
    "try:\n",
    "    lr_precision = lr_true_positive/(lr_true_positive+lr_false_positive)\n",
    "except:\n",
    "    lr_precision = 0\n",
    "    print(\"If you see this message, it means that the\\ndenominator of precision for logistic regression turned out to be 0 \")\n",
    "# Precision for decision tree\n",
    "try:\n",
    "    dt_precision = dt_true_positive/(dt_true_positive+dt_false_positive)\n",
    "except:\n",
    "    dt_precision = 0\n",
    "    print(\"If you see this message, it means that the\\ndenominator of precision for decision tree turned out to be 0 \")"
   ]
  },
  {
   "cell_type": "code",
   "execution_count": 53,
   "metadata": {},
   "outputs": [
    {
     "name": "stdout",
     "output_type": "stream",
     "text": [
      "Precision: LR =  0.16666666666666666\n",
      "Precision: DT =  0.11764705882352941\n"
     ]
    }
   ],
   "source": [
    "print(\"Precision: LR = \" , lr_precision)\n",
    "print(\"Precision: DT = \" , dt_precision)"
   ]
  },
  {
   "cell_type": "markdown",
   "metadata": {},
   "source": [
    "### Recall\n",
    "What proportion of actual positives was identified correctly?\n",
    "$$Recall = \\frac{TP}{TP+FN}$$"
   ]
  },
  {
   "cell_type": "code",
   "execution_count": 54,
   "metadata": {},
   "outputs": [],
   "source": [
    "# Recall for logistic regression\n",
    "try:\n",
    "    lr_recall = lr_true_positive / (lr_true_positive + lr_false_negative)\n",
    "except:\n",
    "    lr_recall = 0\n",
    "    print(\"If you see this message, it means that the\\ndenominator of recall for logistic regression turned out to be 0 \")\n",
    "# Recall for decision tree\n",
    "try:\n",
    "    dt_recall = dt_true_positive / (dt_true_positive + dt_false_negative) \n",
    "except:\n",
    "    dt_recall = 0\n",
    "    print(\"If you see this message, it means that the\\ndenominator of recall for decision tree turned out to be 0 \")"
   ]
  },
  {
   "cell_type": "code",
   "execution_count": 55,
   "metadata": {},
   "outputs": [
    {
     "name": "stdout",
     "output_type": "stream",
     "text": [
      "Recall: LR =  0.09523809523809523\n",
      "Recall: DT =  0.19047619047619047\n"
     ]
    }
   ],
   "source": [
    "print(\"Recall: LR = \" , lr_recall)\n",
    "print(\"Recall: DT = \" , dt_recall)"
   ]
  },
  {
   "cell_type": "markdown",
   "metadata": {},
   "source": [
    "### F1 score\n",
    "The F1 score can be interpreted as a weighted average of the precision and recall, where an F1 score reaches its best value at 1 and worst score at 0. The relative contribution of precision and recall to the F1 score are equal.\n",
    "$$ F1 \\, score = \\frac{2* Precision * Recall}{Precision + Recall}$$"
   ]
  },
  {
   "cell_type": "code",
   "execution_count": 56,
   "metadata": {},
   "outputs": [],
   "source": [
    "# F1 score for logistic regression\n",
    "lr_f1_score = (2*lr_precision*lr_recall)/(lr_precision+lr_recall)\n",
    "# F1 score for decision tree\n",
    "dt_f1_score = (2*dt_precision*dt_recall)/(dt_precision+dt_recall) "
   ]
  },
  {
   "cell_type": "code",
   "execution_count": 57,
   "metadata": {},
   "outputs": [
    {
     "name": "stdout",
     "output_type": "stream",
     "text": [
      "F1 score: LR =  0.12121212121212123\n",
      "F1 score: DT =  0.14545454545454542\n"
     ]
    }
   ],
   "source": [
    "print(\"F1 score: LR = \" , lr_f1_score)\n",
    "print(\"F1 score: DT = \" , dt_f1_score)"
   ]
  },
  {
   "cell_type": "markdown",
   "metadata": {},
   "source": [
    "### Area Under ROC Curve\n",
    "A ROC Curve is a plot of the true positive rate and the false positive rate for a given set of probability predictions at different thresholds used to map the probabilities to class labels. The area under the curve is then the approximate integral under the ROC Curve."
   ]
  },
  {
   "cell_type": "code",
   "execution_count": 66,
   "metadata": {},
   "outputs": [
    {
     "data": {
      "text/plain": [
       "(761, 2)"
      ]
     },
     "execution_count": 66,
     "metadata": {},
     "output_type": "execute_result"
    }
   ],
   "source": [
    "clf1.predict_proba(X_test).shape"
   ]
  },
  {
   "cell_type": "code",
   "execution_count": 69,
   "metadata": {},
   "outputs": [],
   "source": [
    "lr_proba = clf1.predict_proba(X_test)[:,1]\n",
    "dt_proba = clf2.predict_proba(X_test)[:,1]"
   ]
  },
  {
   "cell_type": "code",
   "execution_count": 77,
   "metadata": {},
   "outputs": [],
   "source": [
    "from sklearn.metrics import roc_curve, roc_auc_score"
   ]
  },
  {
   "cell_type": "code",
   "execution_count": 72,
   "metadata": {},
   "outputs": [],
   "source": [
    "lr_false_positive_rate, lr_true_positive_rate, lr_thresholds = roc_curve(y_test, lr_proba)\n",
    "dt_false_positive_rate, dt_true_positive_rate, dt_thresholds =  roc_curve(y_test, dt_proba)"
   ]
  },
  {
   "cell_type": "code",
   "execution_count": 76,
   "metadata": {},
   "outputs": [
    {
     "data": {
      "image/png": "[encoded data removed]",
      "text/plain": [
       "<Figure size 432x288 with 1 Axes>"
      ]
     },
     "metadata": {
      "needs_background": "light"
     },
     "output_type": "display_data"
    }
   ],
   "source": [
    "# TODO: Plot the ROC curve\n",
    "plt.plot(lr_false_positive_rate, lr_true_positive_rate, label=\"Linear Regression\")\n",
    "plt.plot(dt_false_positive_rate, dt_true_positive_rate, label=\"Decision Tree\")\n",
    "plt.legend()\n",
    "plt.xlabel(\"FPR\")\n",
    "plt.ylabel(\"TPR\")\n",
    "plt.show()"
   ]
  },
  {
   "cell_type": "code",
   "execution_count": 79,
   "metadata": {},
   "outputs": [
    {
     "name": "stdout",
     "output_type": "stream",
     "text": [
      "\n",
      "LR score: 0.8992921492921493\n",
      "DT score: 0.574967824967825\n",
      "\n"
     ]
    }
   ],
   "source": [
    "lr_score = roc_auc_score(y_test, lr_proba)\n",
    "dt_score = roc_auc_score(y_test, dt_proba)\n",
    "\n",
    "print(f'''\n",
    "LR score: {lr_score}\n",
    "DT score: {dt_score}\n",
    "''')"
   ]
  }
 ],
 "metadata": {
  "kernelspec": {
   "display_name": "Python 3",
   "language": "python",
   "name": "python3"
  },
  "language_info": {
   "codemirror_mode": {
    "name": "ipython",
    "version": 3
   },
   "file_extension": ".py",
   "mimetype": "text/x-python",
   "name": "python",
   "nbconvert_exporter": "python",
   "pygments_lexer": "ipython3",
   "version": "3.8.5"
  },
  "toc": {
   "base_numbering": 1,
   "nav_menu": {},
   "number_sections": true,
   "sideBar": true,
   "skip_h1_title": false,
   "title_cell": "Table of Contents",
   "title_sidebar": "Contents",
   "toc_cell": false,
   "toc_position": {},
   "toc_section_display": true,
   "toc_window_display": false
  }
 },
 "nbformat": 4,
 "nbformat_minor": 4
}
