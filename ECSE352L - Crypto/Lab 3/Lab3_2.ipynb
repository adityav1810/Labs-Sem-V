{
 "cells": [
  {
   "cell_type": "markdown",
   "metadata": {},
   "source": [
    "### Write a program to implement “Vernam one-time pad” (Additive Cipher). The cryptographic key should exactly same as the length of message which is encrypted. The key is truly random and specially auto generated.\n",
    "##### Encryption Process: C= K⊕P\n",
    "##### Decryption Process: P= C⊕K"
   ]
  },
  {
   "cell_type": "code",
   "execution_count": 67,
   "metadata": {},
   "outputs": [
    {
     "name": "stdout",
     "output_type": "stream",
     "text": [
      "Enter binary string to encrypt: 10011101010101111100001\n"
     ]
    }
   ],
   "source": [
    "t = [int(i) for i in list(input('Enter binary string to encrypt: '))]"
   ]
  },
  {
   "cell_type": "code",
   "execution_count": 68,
   "metadata": {},
   "outputs": [
    {
     "name": "stdout",
     "output_type": "stream",
     "text": [
      "Key: 10100111001100011100001\n"
     ]
    }
   ],
   "source": [
    "import random\n",
    "#key\n",
    "e = [0 if random.random() > 0.5 else 1 for i in range(len(t))]\n",
    "key = ''.join([str(i) for i in e])\n",
    "print(f'Key: {key}')"
   ]
  },
  {
   "cell_type": "code",
   "execution_count": 69,
   "metadata": {},
   "outputs": [
    {
     "name": "stdout",
     "output_type": "stream",
     "text": [
      "Encrypted Text: 00111010011001100000000\n"
     ]
    }
   ],
   "source": [
    "#result encrypted\n",
    "encrypted = [t[i]^e[i] for i in range(len(t))]\n",
    "enc = ''.join([str(i) for i in encrypted])\n",
    "print(f'Encrypted Text: {enc}')"
   ]
  },
  {
   "cell_type": "code",
   "execution_count": 70,
   "metadata": {},
   "outputs": [
    {
     "name": "stdout",
     "output_type": "stream",
     "text": [
      "Enter binary string to decrypt: 00111010011001100000000\n",
      "Enter binary key to decrypt: 10100111001100011100001\n"
     ]
    }
   ],
   "source": [
    "#entering key\n",
    "c = [int(i) for i in list(input('Enter binary string to decrypt: '))]\n",
    "k = [int(i) for i in list(input('Enter binary key to decrypt: '))]"
   ]
  },
  {
   "cell_type": "code",
   "execution_count": 73,
   "metadata": {},
   "outputs": [
    {
     "name": "stdout",
     "output_type": "stream",
     "text": [
      "Decrypted Text: 10011101010101111100001\n"
     ]
    }
   ],
   "source": [
    "#result decrypted\n",
    "decrypted = [c[i]^k[i] for i in range(len(c))]\n",
    "dec = ''.join([str(i) for i in decrypted])\n",
    "print(f'Decrypted Text: {dec}')"
   ]
  }
 ],
 "metadata": {
  "kernelspec": {
   "display_name": "Python 3",
   "language": "python",
   "name": "python3"
  },
  "language_info": {
   "codemirror_mode": {
    "name": "ipython",
    "version": 3
   },
   "file_extension": ".py",
   "mimetype": "text/x-python",
   "name": "python",
   "nbconvert_exporter": "python",
   "pygments_lexer": "ipython3",
   "version": "3.8.5"
  }
 },
 "nbformat": 4,
 "nbformat_minor": 4
}
