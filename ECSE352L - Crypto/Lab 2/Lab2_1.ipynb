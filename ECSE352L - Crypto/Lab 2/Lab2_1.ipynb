{
 "metadata": {
  "language_info": {
   "codemirror_mode": {
    "name": "ipython",
    "version": 3
   },
   "file_extension": ".py",
   "mimetype": "text/x-python",
   "name": "python",
   "nbconvert_exporter": "python",
   "pygments_lexer": "ipython3",
   "version": "3.8.5-final"
  },
  "orig_nbformat": 2,
  "kernelspec": {
   "name": "python_defaultSpec_1598502030911",
   "display_name": "Python 3.8.5 64-bit"
  }
 },
 "nbformat": 4,
 "nbformat_minor": 2,
 "cells": [
  {
   "cell_type": "markdown",
   "metadata": {
    "tags": []
   },
   "source": [
    "### Affine Cypher Implementation\n"
   ]
  },
  {
   "cell_type": "code",
   "execution_count": 72,
   "metadata": {},
   "outputs": [],
   "source": [
    "# Defining Affine encrypt function\n",
    "\n",
    "# This function takes the keys a,b and the total length allowed 'm' and returns a function to calculated encrypted index on a int\n",
    "affineEncrypt = lambda a, b, m : lambda p : (a*p+b) % m\n",
    "#takes the encryption function and text characters in num iterable format and returns chars for m = 26 with lowercase input\n",
    "encrypt = lambda eFun, numText : [chr(eFun(i)+97) for i in numText]\n",
    "\n",
    "#Defining Affine decrpyt function\n",
    "\n",
    "getInv = lambda a, m : [i for i in range(9999) if (a*i)%m == 1][0]\n",
    "affineDecrpyt = lambda aInv, b, m : lambda c : (aInv*(c-b))%m\n",
    "\n",
    "decrypt = lambda dFun, numText : [chr(dFun(i)+97) for i in numText]"
   ]
  },
  {
   "cell_type": "code",
   "execution_count": 104,
   "metadata": {
    "tags": []
   },
   "outputs": [],
   "source": [
    "import sys\n",
    "#Taking all the Inputs\n",
    "\n",
    "#defining 'm'\n",
    "m = 26\n",
    "\n",
    "# Getting the keys\n",
    "a, b = int(input(\"Enter key a:\")), int(input(\"Enter key b:\"))\n",
    "if a%m == 0 or m%a == 0:\n",
    "    print(f'Invalid Cypher Key. Needs to be prime relative to m:{m}')\n",
    "    sys.exit(\"Invalid Input\")\n",
    "\n",
    "# Asking whether to encrypt or decrypt\n",
    "state = int(input(\"Enter 0 to encrypt and 1 to decrypt or 2 for both\"))\n",
    "\n",
    "#Getting the text to encrypt or decrpyt\n",
    "text = str(input(\"Enter the text to encrypt or decrpt (in range a-b) (A-B will be converted to lowercase)\")).lower()\n",
    "if [i for i in text if ord(i) < 97 or ord(i) > 97+26]:\n",
    "    print(f'Some character is out of range for Affine encryption with current m={m}. Enter in range a-b')\n",
    "    sys.exit('Invalid input')\n",
    "\n",
    "# Converting to numeric\n",
    "convNum = lambda t : [ord(i)-97 for i in text]\n",
    "text = convNum(text)\n",
    "# Initializing encrypt\n",
    "eFun = affineEncrypt(a, b, m)\n",
    "aInv = getInv(a, m)\n",
    "dFun = affineDecrpyt(aInv, b, m)"
   ]
  },
  {
   "cell_type": "code",
   "execution_count": 105,
   "metadata": {
    "tags": []
   },
   "outputs": [
    {
     "output_type": "stream",
     "name": "stdout",
     "text": "a: 5, b: 7, m: 26\nEncrypted Text: wbgbuw\nDecrypted Text: defend\n"
    }
   ],
   "source": [
    "print(f'a: {a}, b: {b}, m: {m}')\n",
    "\n",
    "# Encrypt\n",
    "if state == 0 or state == 2:\n",
    "    encText = \"\".join(encrypt(eFun, text))\n",
    "    print(f'Encrypted Text: {encText}')\n",
    "    text = [ord(i)-97 for i in encText]\n",
    "# Decrypt\n",
    "if state == 1 or state == 2:\n",
    "    decText = \"\".join(decrypt(dFun, text)) \n",
    "    print(f'Decrypted Text: {decText}')\n"
   ]
  }
 ]
}