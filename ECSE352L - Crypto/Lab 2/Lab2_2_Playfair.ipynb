{
 "cells": [
  {
   "cell_type": "markdown",
   "metadata": {},
   "source": [
    "# Playfair Cypher Implementation\n",
    "\n",
    "### The Playfair cipher encrypts pairs of letters (digraphs), instead of single letters as is the case with simpler substitution ciphers such as the Caesar Cipher. The playfair cipher starts with creating a key table. The key table is a 5×5 grid of letters that will act as the key for encrypting your plaintext.\n",
    "The Playfair cipher uses a few simple rules relating to where the letters of each digraph are in relation to each other. The rules are:\n",
    "\n",
    "- If both letters are in the same column, take the letter below each one (going back to the\n",
    "top if at the bottom)\n",
    "- If both letters are in the same row, take the letter to the right of each one (going back to\n",
    "the left if at the farthest right)\n",
    "- If neither of the preceding two rules are true, form a rectangle with the two letters and\n",
    "take the letters on the horizontal opposite corner of the rectangle\n"
   ]
  },
  {
   "cell_type": "code",
   "execution_count": 238,
   "metadata": {},
   "outputs": [],
   "source": [
    "import numpy as np"
   ]
  },
  {
   "cell_type": "code",
   "execution_count": 239,
   "metadata": {},
   "outputs": [],
   "source": [
    "class Playfair:\n",
    "    \n",
    "    import string\n",
    "    \n",
    "    def __init__(self, key, verbose = False):\n",
    "        self._key = str(key).lower()\n",
    "        self.verbose = verbose\n",
    "        self._Grid = np.array([['']*5]*5 , dtype=\"str\")\n",
    "        self._visited = {c : False for c in string.ascii_lowercase if c != 'j'}\n",
    "        self._initGrid()\n",
    "        \n",
    "    def _initGrid(self):\n",
    "        i,j= self._fillGrid(0,0, self._key)\n",
    "        self._fillGrid(i,j, string.ascii_lowercase)\n",
    "        if self.verbose:\n",
    "            print(self._Grid)\n",
    "                \n",
    "    def _fillGrid(self, i, j, s):\n",
    "        for c in s:\n",
    "            if i > 4:\n",
    "                break\n",
    "            if j > 4:\n",
    "                j = 0\n",
    "                i+=1\n",
    "            if c == 'j':\n",
    "                c = 'i'\n",
    "            if self._visited[c] == False:\n",
    "                self._Grid[i,j] = c\n",
    "                self._visited[c] = True\n",
    "                j+=1\n",
    "        return i,j\n",
    "            \n",
    "    \n",
    "    def encrypt(self, text):\n",
    "        text = str(text).lower()\n",
    "        if len(text)%2 != 0:\n",
    "            text += 'z'\n",
    "        text = text.replace('j','i')\n",
    "        diG = [text[i]+text[i+1] for i in range(0,len(text),2)]\n",
    "        if self.verbose:\n",
    "            print(f'Following is the digraph: {diG}\\n')\n",
    "        encDig = map(self._encryptor, diG)\n",
    "        return \"\".join(list(encDig))\n",
    "    \n",
    "    def decrpyt(self, text):\n",
    "        text = str(text).lower()\n",
    "        if len(text)%2 != 0:\n",
    "            text += 'z'\n",
    "        text = text.replace('j','i')\n",
    "        diG = [text[i]+text[i+1] for i in range(0,len(text),2)]\n",
    "        if self.verbose:\n",
    "            print(f'Following is the digraph: {diG}\\n')\n",
    "        encDig = map(self._decryptor, diG)\n",
    "        return \"\".join(list(encDig))\n",
    "    \n",
    "    def _encryptor(self, d):\n",
    "        if self.verbose:\n",
    "            print(f'Mapping: {d[0]},{d[1]}')\n",
    "        pos1 = np.where(self._Grid == d[0])\n",
    "        pos2 = np.where(self._Grid == d[1])\n",
    "        i1,j1,i2,j2 = pos1[0], pos1[1], pos2[0], pos2[1]\n",
    "        \n",
    "        #same column\n",
    "        if j1 == j2:\n",
    "            i1+=1\n",
    "            i2+=1\n",
    "        #same row\n",
    "        elif i1 == i2:\n",
    "            j1+=1\n",
    "            j2+=1\n",
    "        #diagonal\n",
    "        else:\n",
    "            t = j1\n",
    "            j1 = j2\n",
    "            j2 = t\n",
    "        i1 = 0 if i1 > 4 else i1\n",
    "        j1 = 0 if j1 > 4 else j1\n",
    "        i2 = 0 if i2 > 4 else i2\n",
    "        j2 = 0 if j2 > 4 else j2\n",
    "        if self.verbose:\n",
    "            print(f'Mapped to : {self._Grid[i1,j1][0]} ,{self._Grid[i2,j2][0]}\\n')\n",
    "        return self._Grid[i1,j1][0]+self._Grid[i2,j2][0]\n",
    "    \n",
    "    def _decryptor(self, d):\n",
    "        if self.verbose:\n",
    "            print(f'Mapping: {d[0]},{d[1]}')\n",
    "        pos1 = np.where(self._Grid == d[0])\n",
    "        pos2 = np.where(self._Grid == d[1])\n",
    "        i1,j1,i2,j2 = pos1[0], pos1[1], pos2[0], pos2[1]\n",
    "        \n",
    "        #same column\n",
    "        if j1 == j2:\n",
    "            i1-=1\n",
    "            i2-=1\n",
    "        #same row\n",
    "        elif i1 == i2:\n",
    "            j1-=1\n",
    "            j2-=1\n",
    "        #diagonal\n",
    "        else:\n",
    "            t = j1\n",
    "            j1 = j2\n",
    "            j2 = t\n",
    "        i1 = 4 if i1 < 0 else i1\n",
    "        j1 = 4 if j1 < 0 else j1\n",
    "        i2 = 4 if i2 < 0 else i2\n",
    "        j2 = 4 if j2 < 0 else j2\n",
    "        if self.verbose:\n",
    "            print(f'Mapped to : {self._Grid[i1,j1][0]} ,{self._Grid[i2,j2][0]}\\n')\n",
    "        return self._Grid[i1,j1][0]+self._Grid[i2,j2][0]\n",
    "        \n",
    "            \n",
    "        "
   ]
  },
  {
   "cell_type": "code",
   "execution_count": 240,
   "metadata": {},
   "outputs": [
    {
     "name": "stdout",
     "output_type": "stream",
     "text": [
      "Enter key text:monarchy\n",
      "Enter text to encrypt:instrument\n"
     ]
    }
   ],
   "source": [
    "key = str(input('Enter key text:'))\n",
    "text = str(input('Enter text to encrypt:'))"
   ]
  },
  {
   "cell_type": "code",
   "execution_count": 241,
   "metadata": {},
   "outputs": [
    {
     "name": "stdout",
     "output_type": "stream",
     "text": [
      "Original Message: instrument\n",
      "Encrypted Message: gatlmzclrq\n",
      "Decrypted Message: instrument\n"
     ]
    }
   ],
   "source": [
    "cypher = Playfair(key)\n",
    "print(f'Original Message: {text}')\n",
    "res = cypher.encrypt(text)\n",
    "print(f'Encrypted Message: {res}')\n",
    "dec = cypher.decrpyt(res)\n",
    "print(f'Decrypted Message: {dec}')"
   ]
  }
 ],
 "metadata": {
  "kernelspec": {
   "display_name": "Python 3",
   "language": "python",
   "name": "python3"
  },
  "language_info": {
   "codemirror_mode": {
    "name": "ipython",
    "version": 3
   },
   "file_extension": ".py",
   "mimetype": "text/x-python",
   "name": "python",
   "nbconvert_exporter": "python",
   "pygments_lexer": "ipython3",
   "version": "3.8.5"
  }
 },
 "nbformat": 4,
 "nbformat_minor": 2
}
